{
 "cells": [
  {
   "cell_type": "markdown",
   "metadata": {},
   "source": [
    "### Introduction\n",
    "<p style=\"text-align:justify\">\n",
    "Lending Club is a peer to peer marketplace for personal loans that matches borrowers who are seeking a loan with investors looking to lend money and make a return. </p>\n",
    "\n",
    "### Lending Process\n",
    "<p style=\"text-align:justify\">\n",
    "\n",
    "Each borrowers fills out an application with details like financial history, purpose of loan, etc. Lending Club tries to verify all the information before putting it up on the their marketplace, but isn't always successful. Therefore, it is recommended that individual investors do their own research before investing.  </p>\n",
    "\n",
    "### Some questions to think about!\n",
    "<p style=\"text-align:justify\">\n",
    "Let us assume that we are a conservative investor looking to invest on the platform and wants to perform his own analysis. <br>\n",
    "Which loans should we invest in, so that I lose minimum amount of money? <br> </p>"
   ]
  },
  {
   "cell_type": "markdown",
   "metadata": {},
   "source": [
    "<hr>\n",
    "### Acquiring the Data\n",
    "\n",
    "\n",
    "<p style=\"text-align:justify\">\n",
    "Lending Club releases data for all of the approved and declined loan applications periodically on their <a href=\"https://www.lendingclub.com/info/download-data.action\">website</a>. You can select a few different year ranges to download the datasets (in CSV format) for both approved and declined loans. </p>\n",
    "\n",
    "<p style=\"text-align:justify\">\n",
    "We have downloaded - <br>\n",
    "1. Loan data from 2007-2011 (approx. 9.3 MB): LoanStats3a.csv. \n",
    "2. Data dictionary (an explanation of data fields): LCDataDictionary.xlsx "
   ]
  },
  {
   "cell_type": "markdown",
   "metadata": {},
   "source": [
    "### Exploring the data"
   ]
  },
  {
   "cell_type": "code",
   "execution_count": 1,
   "metadata": {},
   "outputs": [
    {
     "data": {
      "text/html": [
       "<table>\n",
       "<thead><tr><th scope=col>id</th><th scope=col>member_id</th><th scope=col>loan_amnt</th><th scope=col>funded_amnt</th><th scope=col>funded_amnt_inv</th><th scope=col>term</th><th scope=col>int_rate</th><th scope=col>installment</th><th scope=col>grade</th><th scope=col>sub_grade</th><th scope=col>...</th><th scope=col>hardship_payoff_balance_amount</th><th scope=col>hardship_last_payment_amount</th><th scope=col>disbursement_method</th><th scope=col>debt_settlement_flag</th><th scope=col>debt_settlement_flag_date</th><th scope=col>settlement_status</th><th scope=col>settlement_date</th><th scope=col>settlement_amount</th><th scope=col>settlement_percentage</th><th scope=col>settlement_term</th></tr></thead>\n",
       "<tbody>\n",
       "\t<tr><td>          </td><td>NA        </td><td> 5000     </td><td> 5000     </td><td> 4975     </td><td> 36 months</td><td>10.65%    </td><td>162.87    </td><td>B         </td><td>B2        </td><td>...       </td><td>NA        </td><td>NA        </td><td>Cash      </td><td>N         </td><td>          </td><td>          </td><td>          </td><td>NA        </td><td>NA        </td><td>NA        </td></tr>\n",
       "\t<tr><td>          </td><td>NA        </td><td> 2500     </td><td> 2500     </td><td> 2500     </td><td> 60 months</td><td>15.27%    </td><td> 59.83    </td><td>C         </td><td>C4        </td><td>...       </td><td>NA        </td><td>NA        </td><td>Cash      </td><td>N         </td><td>          </td><td>          </td><td>          </td><td>NA        </td><td>NA        </td><td>NA        </td></tr>\n",
       "\t<tr><td>          </td><td>NA        </td><td> 2400     </td><td> 2400     </td><td> 2400     </td><td> 36 months</td><td>15.96%    </td><td> 84.33    </td><td>C         </td><td>C5        </td><td>...       </td><td>NA        </td><td>NA        </td><td>Cash      </td><td>N         </td><td>          </td><td>          </td><td>          </td><td>NA        </td><td>NA        </td><td>NA        </td></tr>\n",
       "\t<tr><td>          </td><td>NA        </td><td>10000     </td><td>10000     </td><td>10000     </td><td> 36 months</td><td>13.49%    </td><td>339.31    </td><td>C         </td><td>C1        </td><td>...       </td><td>NA        </td><td>NA        </td><td>Cash      </td><td>N         </td><td>          </td><td>          </td><td>          </td><td>NA        </td><td>NA        </td><td>NA        </td></tr>\n",
       "\t<tr><td>          </td><td>NA        </td><td> 3000     </td><td> 3000     </td><td> 3000     </td><td> 60 months</td><td>12.69%    </td><td> 67.79    </td><td>B         </td><td>B5        </td><td>...       </td><td>NA        </td><td>NA        </td><td>Cash      </td><td>N         </td><td>          </td><td>          </td><td>          </td><td>NA        </td><td>NA        </td><td>NA        </td></tr>\n",
       "\t<tr><td>          </td><td>NA        </td><td> 5000     </td><td> 5000     </td><td> 5000     </td><td> 36 months</td><td>7.90%     </td><td>156.46    </td><td>A         </td><td>A4        </td><td>...       </td><td>NA        </td><td>NA        </td><td>Cash      </td><td>N         </td><td>          </td><td>          </td><td>          </td><td>NA        </td><td>NA        </td><td>NA        </td></tr>\n",
       "</tbody>\n",
       "</table>\n"
      ],
      "text/latex": [
       "\\begin{tabular}{r|lllllllllllllllllllllllllllllllllllllllllllllllllllllllllllllllllllllllllllllllllllllllllllllllllllllllllllllllllllllllllllllllllllllllllllllllll}\n",
       " id & member\\_id & loan\\_amnt & funded\\_amnt & funded\\_amnt\\_inv & term & int\\_rate & installment & grade & sub\\_grade & ... & hardship\\_payoff\\_balance\\_amount & hardship\\_last\\_payment\\_amount & disbursement\\_method & debt\\_settlement\\_flag & debt\\_settlement\\_flag\\_date & settlement\\_status & settlement\\_date & settlement\\_amount & settlement\\_percentage & settlement\\_term\\\\\n",
       "\\hline\n",
       "\t            & NA         &  5000      &  5000      &  4975      &  36 months & 10.65\\%   & 162.87     & B          & B2         & ...        & NA         & NA         & Cash       & N          &            &            &            & NA         & NA         & NA        \\\\\n",
       "\t            & NA         &  2500      &  2500      &  2500      &  60 months & 15.27\\%   &  59.83     & C          & C4         & ...        & NA         & NA         & Cash       & N          &            &            &            & NA         & NA         & NA        \\\\\n",
       "\t            & NA         &  2400      &  2400      &  2400      &  36 months & 15.96\\%   &  84.33     & C          & C5         & ...        & NA         & NA         & Cash       & N          &            &            &            & NA         & NA         & NA        \\\\\n",
       "\t            & NA         & 10000      & 10000      & 10000      &  36 months & 13.49\\%   & 339.31     & C          & C1         & ...        & NA         & NA         & Cash       & N          &            &            &            & NA         & NA         & NA        \\\\\n",
       "\t            & NA         &  3000      &  3000      &  3000      &  60 months & 12.69\\%   &  67.79     & B          & B5         & ...        & NA         & NA         & Cash       & N          &            &            &            & NA         & NA         & NA        \\\\\n",
       "\t            & NA         &  5000      &  5000      &  5000      &  36 months & 7.90\\%    & 156.46     & A          & A4         & ...        & NA         & NA         & Cash       & N          &            &            &            & NA         & NA         & NA        \\\\\n",
       "\\end{tabular}\n"
      ],
      "text/markdown": [
       "\n",
       "id | member_id | loan_amnt | funded_amnt | funded_amnt_inv | term | int_rate | installment | grade | sub_grade | ... | hardship_payoff_balance_amount | hardship_last_payment_amount | disbursement_method | debt_settlement_flag | debt_settlement_flag_date | settlement_status | settlement_date | settlement_amount | settlement_percentage | settlement_term | \n",
       "|---|---|---|---|---|---|\n",
       "|            | NA         |  5000      |  5000      |  4975      |  36 months | 10.65%     | 162.87     | B          | B2         | ...        | NA         | NA         | Cash       | N          |            |            |            | NA         | NA         | NA         | \n",
       "|            | NA         |  2500      |  2500      |  2500      |  60 months | 15.27%     |  59.83     | C          | C4         | ...        | NA         | NA         | Cash       | N          |            |            |            | NA         | NA         | NA         | \n",
       "|            | NA         |  2400      |  2400      |  2400      |  36 months | 15.96%     |  84.33     | C          | C5         | ...        | NA         | NA         | Cash       | N          |            |            |            | NA         | NA         | NA         | \n",
       "|            | NA         | 10000      | 10000      | 10000      |  36 months | 13.49%     | 339.31     | C          | C1         | ...        | NA         | NA         | Cash       | N          |            |            |            | NA         | NA         | NA         | \n",
       "|            | NA         |  3000      |  3000      |  3000      |  60 months | 12.69%     |  67.79     | B          | B5         | ...        | NA         | NA         | Cash       | N          |            |            |            | NA         | NA         | NA         | \n",
       "|            | NA         |  5000      |  5000      |  5000      |  36 months | 7.90%      | 156.46     | A          | A4         | ...        | NA         | NA         | Cash       | N          |            |            |            | NA         | NA         | NA         | \n",
       "\n",
       "\n"
      ],
      "text/plain": [
       "  id member_id loan_amnt funded_amnt funded_amnt_inv term       int_rate\n",
       "1    NA         5000      5000        4975            36 months 10.65%  \n",
       "2    NA         2500      2500        2500            60 months 15.27%  \n",
       "3    NA         2400      2400        2400            36 months 15.96%  \n",
       "4    NA        10000     10000       10000            36 months 13.49%  \n",
       "5    NA         3000      3000        3000            60 months 12.69%  \n",
       "6    NA         5000      5000        5000            36 months 7.90%   \n",
       "  installment grade sub_grade ... hardship_payoff_balance_amount\n",
       "1 162.87      B     B2        ... NA                            \n",
       "2  59.83      C     C4        ... NA                            \n",
       "3  84.33      C     C5        ... NA                            \n",
       "4 339.31      C     C1        ... NA                            \n",
       "5  67.79      B     B5        ... NA                            \n",
       "6 156.46      A     A4        ... NA                            \n",
       "  hardship_last_payment_amount disbursement_method debt_settlement_flag\n",
       "1 NA                           Cash                N                   \n",
       "2 NA                           Cash                N                   \n",
       "3 NA                           Cash                N                   \n",
       "4 NA                           Cash                N                   \n",
       "5 NA                           Cash                N                   \n",
       "6 NA                           Cash                N                   \n",
       "  debt_settlement_flag_date settlement_status settlement_date settlement_amount\n",
       "1                                                             NA               \n",
       "2                                                             NA               \n",
       "3                                                             NA               \n",
       "4                                                             NA               \n",
       "5                                                             NA               \n",
       "6                                                             NA               \n",
       "  settlement_percentage settlement_term\n",
       "1 NA                    NA             \n",
       "2 NA                    NA             \n",
       "3 NA                    NA             \n",
       "4 NA                    NA             \n",
       "5 NA                    NA             \n",
       "6 NA                    NA             "
      ]
     },
     "metadata": {},
     "output_type": "display_data"
    }
   ],
   "source": [
    "loan_stats <- read.csv('LoanStats3a.csv')\n",
    "head(loan_stats)"
   ]
  },
  {
   "cell_type": "code",
   "execution_count": 2,
   "metadata": {},
   "outputs": [
    {
     "name": "stderr",
     "output_type": "stream",
     "text": [
      "Loading required package: rJava\n",
      "Loading required package: xlsxjars\n"
     ]
    },
    {
     "data": {
      "text/html": [
       "<table>\n",
       "<thead><tr><th scope=col>LoanStatNew</th><th scope=col>Description</th></tr></thead>\n",
       "<tbody>\n",
       "\t<tr><td>acc_now_delinq                                                                           </td><td>The number of accounts on which the borrower is now delinquent.                          </td></tr>\n",
       "\t<tr><td>acc_open_past_24mths                                                                     </td><td>Number of trades opened in past 24 months.                                               </td></tr>\n",
       "\t<tr><td>addr_state                                                                               </td><td>The state provided by the borrower in the loan application                               </td></tr>\n",
       "\t<tr><td>all_util                                                                                 </td><td>Balance to credit limit on all trades                                                    </td></tr>\n",
       "\t<tr><td>annual_inc                                                                               </td><td>The self-reported annual income provided by the borrower during registration.            </td></tr>\n",
       "\t<tr><td>annual_inc_joint                                                                         </td><td>The combined self-reported annual income provided by the co-borrowers during registration</td></tr>\n",
       "</tbody>\n",
       "</table>\n"
      ],
      "text/latex": [
       "\\begin{tabular}{r|ll}\n",
       " LoanStatNew & Description\\\\\n",
       "\\hline\n",
       "\t acc\\_now\\_delinq                                                                        & The number of accounts on which the borrower is now delinquent.                          \\\\\n",
       "\t acc\\_open\\_past\\_24mths                                                                & Number of trades opened in past 24 months.                                               \\\\\n",
       "\t addr\\_state                                                                              & The state provided by the borrower in the loan application                               \\\\\n",
       "\t all\\_util                                                                                & Balance to credit limit on all trades                                                    \\\\\n",
       "\t annual\\_inc                                                                              & The self-reported annual income provided by the borrower during registration.            \\\\\n",
       "\t annual\\_inc\\_joint                                                                      & The combined self-reported annual income provided by the co-borrowers during registration\\\\\n",
       "\\end{tabular}\n"
      ],
      "text/markdown": [
       "\n",
       "LoanStatNew | Description | \n",
       "|---|---|---|---|---|---|\n",
       "| acc_now_delinq                                                                            | The number of accounts on which the borrower is now delinquent.                           | \n",
       "| acc_open_past_24mths                                                                      | Number of trades opened in past 24 months.                                                | \n",
       "| addr_state                                                                                | The state provided by the borrower in the loan application                                | \n",
       "| all_util                                                                                  | Balance to credit limit on all trades                                                     | \n",
       "| annual_inc                                                                                | The self-reported annual income provided by the borrower during registration.             | \n",
       "| annual_inc_joint                                                                          | The combined self-reported annual income provided by the co-borrowers during registration | \n",
       "\n",
       "\n"
      ],
      "text/plain": [
       "  LoanStatNew         \n",
       "1 acc_now_delinq      \n",
       "2 acc_open_past_24mths\n",
       "3 addr_state          \n",
       "4 all_util            \n",
       "5 annual_inc          \n",
       "6 annual_inc_joint    \n",
       "  Description                                                                              \n",
       "1 The number of accounts on which the borrower is now delinquent.                          \n",
       "2 Number of trades opened in past 24 months.                                               \n",
       "3 The state provided by the borrower in the loan application                               \n",
       "4 Balance to credit limit on all trades                                                    \n",
       "5 The self-reported annual income provided by the borrower during registration.            \n",
       "6 The combined self-reported annual income provided by the co-borrowers during registration"
      ]
     },
     "metadata": {},
     "output_type": "display_data"
    }
   ],
   "source": [
    "library(xlsx)\n",
    "description_full <- read.xlsx(\"LCDataDictionary.xlsx\", sheetName = \"LoanStats\")\n",
    "description <- subset(description_full, select=c('LoanStatNew','Description'))\n",
    "head(description)"
   ]
  },
  {
   "cell_type": "code",
   "execution_count": 3,
   "metadata": {},
   "outputs": [
    {
     "data": {
      "text/html": [
       "<ol class=list-inline>\n",
       "\t<li>42538</li>\n",
       "\t<li>145</li>\n",
       "</ol>\n"
      ],
      "text/latex": [
       "\\begin{enumerate*}\n",
       "\\item 42538\n",
       "\\item 145\n",
       "\\end{enumerate*}\n"
      ],
      "text/markdown": [
       "1. 42538\n",
       "2. 145\n",
       "\n",
       "\n"
      ],
      "text/plain": [
       "[1] 42538   145"
      ]
     },
     "metadata": {},
     "output_type": "display_data"
    }
   ],
   "source": [
    "dim(loan_stats)"
   ]
  },
  {
   "cell_type": "markdown",
   "metadata": {},
   "source": [
    "#### The dataset has 145 variables and 42,538 observations\n"
   ]
  },
  {
   "cell_type": "markdown",
   "metadata": {},
   "source": [
    "### Cleaning the data\n",
    "\n",
    "Removing columns with more than 50% of NA values."
   ]
  },
  {
   "cell_type": "code",
   "execution_count": 4,
   "metadata": {},
   "outputs": [
    {
     "name": "stdout",
     "output_type": "stream",
     "text": [
      "[1] \"Removed columns:\"\n"
     ]
    },
    {
     "data": {
      "text/html": [
       "<ol class=list-inline>\n",
       "\t<li>'member_id'</li>\n",
       "\t<li>'url'</li>\n",
       "\t<li>'mths_since_last_delinq'</li>\n",
       "\t<li>'mths_since_last_record'</li>\n",
       "\t<li>'mths_since_last_major_derog'</li>\n",
       "\t<li>'annual_inc_joint'</li>\n",
       "\t<li>'dti_joint'</li>\n",
       "\t<li>'verification_status_joint'</li>\n",
       "\t<li>'tot_coll_amt'</li>\n",
       "\t<li>'tot_cur_bal'</li>\n",
       "\t<li>'open_acc_6m'</li>\n",
       "\t<li>'open_act_il'</li>\n",
       "\t<li>'open_il_12m'</li>\n",
       "\t<li>'open_il_24m'</li>\n",
       "\t<li>'mths_since_rcnt_il'</li>\n",
       "\t<li>'total_bal_il'</li>\n",
       "\t<li>'il_util'</li>\n",
       "\t<li>'open_rv_12m'</li>\n",
       "\t<li>'open_rv_24m'</li>\n",
       "\t<li>'max_bal_bc'</li>\n",
       "\t<li>'all_util'</li>\n",
       "\t<li>'total_rev_hi_lim'</li>\n",
       "\t<li>'inq_fi'</li>\n",
       "\t<li>'total_cu_tl'</li>\n",
       "\t<li>'inq_last_12m'</li>\n",
       "\t<li>'acc_open_past_24mths'</li>\n",
       "\t<li>'avg_cur_bal'</li>\n",
       "\t<li>'bc_open_to_buy'</li>\n",
       "\t<li>'bc_util'</li>\n",
       "\t<li>'mo_sin_old_il_acct'</li>\n",
       "\t<li>'mo_sin_old_rev_tl_op'</li>\n",
       "\t<li>'mo_sin_rcnt_rev_tl_op'</li>\n",
       "\t<li>'mo_sin_rcnt_tl'</li>\n",
       "\t<li>'mort_acc'</li>\n",
       "\t<li>'mths_since_recent_bc'</li>\n",
       "\t<li>'mths_since_recent_bc_dlq'</li>\n",
       "\t<li>'mths_since_recent_inq'</li>\n",
       "\t<li>'mths_since_recent_revol_delinq'</li>\n",
       "\t<li>'num_accts_ever_120_pd'</li>\n",
       "\t<li>'num_actv_bc_tl'</li>\n",
       "\t<li>'num_actv_rev_tl'</li>\n",
       "\t<li>'num_bc_sats'</li>\n",
       "\t<li>'num_bc_tl'</li>\n",
       "\t<li>'num_il_tl'</li>\n",
       "\t<li>'num_op_rev_tl'</li>\n",
       "\t<li>'num_rev_accts'</li>\n",
       "\t<li>'num_rev_tl_bal_gt_0'</li>\n",
       "\t<li>'num_sats'</li>\n",
       "\t<li>'num_tl_120dpd_2m'</li>\n",
       "\t<li>'num_tl_30dpd'</li>\n",
       "\t<li>'num_tl_90g_dpd_24m'</li>\n",
       "\t<li>'num_tl_op_past_12m'</li>\n",
       "\t<li>'pct_tl_nvr_dlq'</li>\n",
       "\t<li>'percent_bc_gt_75'</li>\n",
       "\t<li>'tot_hi_cred_lim'</li>\n",
       "\t<li>'total_bal_ex_mort'</li>\n",
       "\t<li>'total_bc_limit'</li>\n",
       "\t<li>'total_il_high_credit_limit'</li>\n",
       "\t<li>'revol_bal_joint'</li>\n",
       "\t<li>'sec_app_earliest_cr_line'</li>\n",
       "\t<li>'sec_app_inq_last_6mths'</li>\n",
       "\t<li>'sec_app_mort_acc'</li>\n",
       "\t<li>'sec_app_open_acc'</li>\n",
       "\t<li>'sec_app_revol_util'</li>\n",
       "\t<li>'sec_app_open_act_il'</li>\n",
       "\t<li>'sec_app_num_rev_accts'</li>\n",
       "\t<li>'sec_app_chargeoff_within_12_mths'</li>\n",
       "\t<li>'sec_app_collections_12_mths_ex_med'</li>\n",
       "\t<li>'sec_app_mths_since_last_major_derog'</li>\n",
       "\t<li>'hardship_type'</li>\n",
       "\t<li>'hardship_reason'</li>\n",
       "\t<li>'hardship_status'</li>\n",
       "\t<li>'deferral_term'</li>\n",
       "\t<li>'hardship_amount'</li>\n",
       "\t<li>'hardship_start_date'</li>\n",
       "\t<li>'hardship_end_date'</li>\n",
       "\t<li>'payment_plan_start_date'</li>\n",
       "\t<li>'hardship_length'</li>\n",
       "\t<li>'hardship_dpd'</li>\n",
       "\t<li>'hardship_loan_status'</li>\n",
       "\t<li>'orig_projected_additional_accrued_interest'</li>\n",
       "\t<li>'hardship_payoff_balance_amount'</li>\n",
       "\t<li>'hardship_last_payment_amount'</li>\n",
       "\t<li>'settlement_amount'</li>\n",
       "\t<li>'settlement_percentage'</li>\n",
       "\t<li>'settlement_term'</li>\n",
       "</ol>\n"
      ],
      "text/latex": [
       "\\begin{enumerate*}\n",
       "\\item 'member\\_id'\n",
       "\\item 'url'\n",
       "\\item 'mths\\_since\\_last\\_delinq'\n",
       "\\item 'mths\\_since\\_last\\_record'\n",
       "\\item 'mths\\_since\\_last\\_major\\_derog'\n",
       "\\item 'annual\\_inc\\_joint'\n",
       "\\item 'dti\\_joint'\n",
       "\\item 'verification\\_status\\_joint'\n",
       "\\item 'tot\\_coll\\_amt'\n",
       "\\item 'tot\\_cur\\_bal'\n",
       "\\item 'open\\_acc\\_6m'\n",
       "\\item 'open\\_act\\_il'\n",
       "\\item 'open\\_il\\_12m'\n",
       "\\item 'open\\_il\\_24m'\n",
       "\\item 'mths\\_since\\_rcnt\\_il'\n",
       "\\item 'total\\_bal\\_il'\n",
       "\\item 'il\\_util'\n",
       "\\item 'open\\_rv\\_12m'\n",
       "\\item 'open\\_rv\\_24m'\n",
       "\\item 'max\\_bal\\_bc'\n",
       "\\item 'all\\_util'\n",
       "\\item 'total\\_rev\\_hi\\_lim'\n",
       "\\item 'inq\\_fi'\n",
       "\\item 'total\\_cu\\_tl'\n",
       "\\item 'inq\\_last\\_12m'\n",
       "\\item 'acc\\_open\\_past\\_24mths'\n",
       "\\item 'avg\\_cur\\_bal'\n",
       "\\item 'bc\\_open\\_to\\_buy'\n",
       "\\item 'bc\\_util'\n",
       "\\item 'mo\\_sin\\_old\\_il\\_acct'\n",
       "\\item 'mo\\_sin\\_old\\_rev\\_tl\\_op'\n",
       "\\item 'mo\\_sin\\_rcnt\\_rev\\_tl\\_op'\n",
       "\\item 'mo\\_sin\\_rcnt\\_tl'\n",
       "\\item 'mort\\_acc'\n",
       "\\item 'mths\\_since\\_recent\\_bc'\n",
       "\\item 'mths\\_since\\_recent\\_bc\\_dlq'\n",
       "\\item 'mths\\_since\\_recent\\_inq'\n",
       "\\item 'mths\\_since\\_recent\\_revol\\_delinq'\n",
       "\\item 'num\\_accts\\_ever\\_120\\_pd'\n",
       "\\item 'num\\_actv\\_bc\\_tl'\n",
       "\\item 'num\\_actv\\_rev\\_tl'\n",
       "\\item 'num\\_bc\\_sats'\n",
       "\\item 'num\\_bc\\_tl'\n",
       "\\item 'num\\_il\\_tl'\n",
       "\\item 'num\\_op\\_rev\\_tl'\n",
       "\\item 'num\\_rev\\_accts'\n",
       "\\item 'num\\_rev\\_tl\\_bal\\_gt\\_0'\n",
       "\\item 'num\\_sats'\n",
       "\\item 'num\\_tl\\_120dpd\\_2m'\n",
       "\\item 'num\\_tl\\_30dpd'\n",
       "\\item 'num\\_tl\\_90g\\_dpd\\_24m'\n",
       "\\item 'num\\_tl\\_op\\_past\\_12m'\n",
       "\\item 'pct\\_tl\\_nvr\\_dlq'\n",
       "\\item 'percent\\_bc\\_gt\\_75'\n",
       "\\item 'tot\\_hi\\_cred\\_lim'\n",
       "\\item 'total\\_bal\\_ex\\_mort'\n",
       "\\item 'total\\_bc\\_limit'\n",
       "\\item 'total\\_il\\_high\\_credit\\_limit'\n",
       "\\item 'revol\\_bal\\_joint'\n",
       "\\item 'sec\\_app\\_earliest\\_cr\\_line'\n",
       "\\item 'sec\\_app\\_inq\\_last\\_6mths'\n",
       "\\item 'sec\\_app\\_mort\\_acc'\n",
       "\\item 'sec\\_app\\_open\\_acc'\n",
       "\\item 'sec\\_app\\_revol\\_util'\n",
       "\\item 'sec\\_app\\_open\\_act\\_il'\n",
       "\\item 'sec\\_app\\_num\\_rev\\_accts'\n",
       "\\item 'sec\\_app\\_chargeoff\\_within\\_12\\_mths'\n",
       "\\item 'sec\\_app\\_collections\\_12\\_mths\\_ex\\_med'\n",
       "\\item 'sec\\_app\\_mths\\_since\\_last\\_major\\_derog'\n",
       "\\item 'hardship\\_type'\n",
       "\\item 'hardship\\_reason'\n",
       "\\item 'hardship\\_status'\n",
       "\\item 'deferral\\_term'\n",
       "\\item 'hardship\\_amount'\n",
       "\\item 'hardship\\_start\\_date'\n",
       "\\item 'hardship\\_end\\_date'\n",
       "\\item 'payment\\_plan\\_start\\_date'\n",
       "\\item 'hardship\\_length'\n",
       "\\item 'hardship\\_dpd'\n",
       "\\item 'hardship\\_loan\\_status'\n",
       "\\item 'orig\\_projected\\_additional\\_accrued\\_interest'\n",
       "\\item 'hardship\\_payoff\\_balance\\_amount'\n",
       "\\item 'hardship\\_last\\_payment\\_amount'\n",
       "\\item 'settlement\\_amount'\n",
       "\\item 'settlement\\_percentage'\n",
       "\\item 'settlement\\_term'\n",
       "\\end{enumerate*}\n"
      ],
      "text/markdown": [
       "1. 'member_id'\n",
       "2. 'url'\n",
       "3. 'mths_since_last_delinq'\n",
       "4. 'mths_since_last_record'\n",
       "5. 'mths_since_last_major_derog'\n",
       "6. 'annual_inc_joint'\n",
       "7. 'dti_joint'\n",
       "8. 'verification_status_joint'\n",
       "9. 'tot_coll_amt'\n",
       "10. 'tot_cur_bal'\n",
       "11. 'open_acc_6m'\n",
       "12. 'open_act_il'\n",
       "13. 'open_il_12m'\n",
       "14. 'open_il_24m'\n",
       "15. 'mths_since_rcnt_il'\n",
       "16. 'total_bal_il'\n",
       "17. 'il_util'\n",
       "18. 'open_rv_12m'\n",
       "19. 'open_rv_24m'\n",
       "20. 'max_bal_bc'\n",
       "21. 'all_util'\n",
       "22. 'total_rev_hi_lim'\n",
       "23. 'inq_fi'\n",
       "24. 'total_cu_tl'\n",
       "25. 'inq_last_12m'\n",
       "26. 'acc_open_past_24mths'\n",
       "27. 'avg_cur_bal'\n",
       "28. 'bc_open_to_buy'\n",
       "29. 'bc_util'\n",
       "30. 'mo_sin_old_il_acct'\n",
       "31. 'mo_sin_old_rev_tl_op'\n",
       "32. 'mo_sin_rcnt_rev_tl_op'\n",
       "33. 'mo_sin_rcnt_tl'\n",
       "34. 'mort_acc'\n",
       "35. 'mths_since_recent_bc'\n",
       "36. 'mths_since_recent_bc_dlq'\n",
       "37. 'mths_since_recent_inq'\n",
       "38. 'mths_since_recent_revol_delinq'\n",
       "39. 'num_accts_ever_120_pd'\n",
       "40. 'num_actv_bc_tl'\n",
       "41. 'num_actv_rev_tl'\n",
       "42. 'num_bc_sats'\n",
       "43. 'num_bc_tl'\n",
       "44. 'num_il_tl'\n",
       "45. 'num_op_rev_tl'\n",
       "46. 'num_rev_accts'\n",
       "47. 'num_rev_tl_bal_gt_0'\n",
       "48. 'num_sats'\n",
       "49. 'num_tl_120dpd_2m'\n",
       "50. 'num_tl_30dpd'\n",
       "51. 'num_tl_90g_dpd_24m'\n",
       "52. 'num_tl_op_past_12m'\n",
       "53. 'pct_tl_nvr_dlq'\n",
       "54. 'percent_bc_gt_75'\n",
       "55. 'tot_hi_cred_lim'\n",
       "56. 'total_bal_ex_mort'\n",
       "57. 'total_bc_limit'\n",
       "58. 'total_il_high_credit_limit'\n",
       "59. 'revol_bal_joint'\n",
       "60. 'sec_app_earliest_cr_line'\n",
       "61. 'sec_app_inq_last_6mths'\n",
       "62. 'sec_app_mort_acc'\n",
       "63. 'sec_app_open_acc'\n",
       "64. 'sec_app_revol_util'\n",
       "65. 'sec_app_open_act_il'\n",
       "66. 'sec_app_num_rev_accts'\n",
       "67. 'sec_app_chargeoff_within_12_mths'\n",
       "68. 'sec_app_collections_12_mths_ex_med'\n",
       "69. 'sec_app_mths_since_last_major_derog'\n",
       "70. 'hardship_type'\n",
       "71. 'hardship_reason'\n",
       "72. 'hardship_status'\n",
       "73. 'deferral_term'\n",
       "74. 'hardship_amount'\n",
       "75. 'hardship_start_date'\n",
       "76. 'hardship_end_date'\n",
       "77. 'payment_plan_start_date'\n",
       "78. 'hardship_length'\n",
       "79. 'hardship_dpd'\n",
       "80. 'hardship_loan_status'\n",
       "81. 'orig_projected_additional_accrued_interest'\n",
       "82. 'hardship_payoff_balance_amount'\n",
       "83. 'hardship_last_payment_amount'\n",
       "84. 'settlement_amount'\n",
       "85. 'settlement_percentage'\n",
       "86. 'settlement_term'\n",
       "\n",
       "\n"
      ],
      "text/plain": [
       " [1] \"member_id\"                                 \n",
       " [2] \"url\"                                       \n",
       " [3] \"mths_since_last_delinq\"                    \n",
       " [4] \"mths_since_last_record\"                    \n",
       " [5] \"mths_since_last_major_derog\"               \n",
       " [6] \"annual_inc_joint\"                          \n",
       " [7] \"dti_joint\"                                 \n",
       " [8] \"verification_status_joint\"                 \n",
       " [9] \"tot_coll_amt\"                              \n",
       "[10] \"tot_cur_bal\"                               \n",
       "[11] \"open_acc_6m\"                               \n",
       "[12] \"open_act_il\"                               \n",
       "[13] \"open_il_12m\"                               \n",
       "[14] \"open_il_24m\"                               \n",
       "[15] \"mths_since_rcnt_il\"                        \n",
       "[16] \"total_bal_il\"                              \n",
       "[17] \"il_util\"                                   \n",
       "[18] \"open_rv_12m\"                               \n",
       "[19] \"open_rv_24m\"                               \n",
       "[20] \"max_bal_bc\"                                \n",
       "[21] \"all_util\"                                  \n",
       "[22] \"total_rev_hi_lim\"                          \n",
       "[23] \"inq_fi\"                                    \n",
       "[24] \"total_cu_tl\"                               \n",
       "[25] \"inq_last_12m\"                              \n",
       "[26] \"acc_open_past_24mths\"                      \n",
       "[27] \"avg_cur_bal\"                               \n",
       "[28] \"bc_open_to_buy\"                            \n",
       "[29] \"bc_util\"                                   \n",
       "[30] \"mo_sin_old_il_acct\"                        \n",
       "[31] \"mo_sin_old_rev_tl_op\"                      \n",
       "[32] \"mo_sin_rcnt_rev_tl_op\"                     \n",
       "[33] \"mo_sin_rcnt_tl\"                            \n",
       "[34] \"mort_acc\"                                  \n",
       "[35] \"mths_since_recent_bc\"                      \n",
       "[36] \"mths_since_recent_bc_dlq\"                  \n",
       "[37] \"mths_since_recent_inq\"                     \n",
       "[38] \"mths_since_recent_revol_delinq\"            \n",
       "[39] \"num_accts_ever_120_pd\"                     \n",
       "[40] \"num_actv_bc_tl\"                            \n",
       "[41] \"num_actv_rev_tl\"                           \n",
       "[42] \"num_bc_sats\"                               \n",
       "[43] \"num_bc_tl\"                                 \n",
       "[44] \"num_il_tl\"                                 \n",
       "[45] \"num_op_rev_tl\"                             \n",
       "[46] \"num_rev_accts\"                             \n",
       "[47] \"num_rev_tl_bal_gt_0\"                       \n",
       "[48] \"num_sats\"                                  \n",
       "[49] \"num_tl_120dpd_2m\"                          \n",
       "[50] \"num_tl_30dpd\"                              \n",
       "[51] \"num_tl_90g_dpd_24m\"                        \n",
       "[52] \"num_tl_op_past_12m\"                        \n",
       "[53] \"pct_tl_nvr_dlq\"                            \n",
       "[54] \"percent_bc_gt_75\"                          \n",
       "[55] \"tot_hi_cred_lim\"                           \n",
       "[56] \"total_bal_ex_mort\"                         \n",
       "[57] \"total_bc_limit\"                            \n",
       "[58] \"total_il_high_credit_limit\"                \n",
       "[59] \"revol_bal_joint\"                           \n",
       "[60] \"sec_app_earliest_cr_line\"                  \n",
       "[61] \"sec_app_inq_last_6mths\"                    \n",
       "[62] \"sec_app_mort_acc\"                          \n",
       "[63] \"sec_app_open_acc\"                          \n",
       "[64] \"sec_app_revol_util\"                        \n",
       "[65] \"sec_app_open_act_il\"                       \n",
       "[66] \"sec_app_num_rev_accts\"                     \n",
       "[67] \"sec_app_chargeoff_within_12_mths\"          \n",
       "[68] \"sec_app_collections_12_mths_ex_med\"        \n",
       "[69] \"sec_app_mths_since_last_major_derog\"       \n",
       "[70] \"hardship_type\"                             \n",
       "[71] \"hardship_reason\"                           \n",
       "[72] \"hardship_status\"                           \n",
       "[73] \"deferral_term\"                             \n",
       "[74] \"hardship_amount\"                           \n",
       "[75] \"hardship_start_date\"                       \n",
       "[76] \"hardship_end_date\"                         \n",
       "[77] \"payment_plan_start_date\"                   \n",
       "[78] \"hardship_length\"                           \n",
       "[79] \"hardship_dpd\"                              \n",
       "[80] \"hardship_loan_status\"                      \n",
       "[81] \"orig_projected_additional_accrued_interest\"\n",
       "[82] \"hardship_payoff_balance_amount\"            \n",
       "[83] \"hardship_last_payment_amount\"              \n",
       "[84] \"settlement_amount\"                         \n",
       "[85] \"settlement_percentage\"                     \n",
       "[86] \"settlement_term\"                           "
      ]
     },
     "metadata": {},
     "output_type": "display_data"
    }
   ],
   "source": [
    "select = rep(TRUE, ncol(loan_stats))\n",
    "max_na_allowed =  0.5*nrow(loan_stats)\n",
    "\n",
    "for(i in 1:ncol(loan_stats)){\n",
    "    if (sum(is.na(loan_stats[i])) > max_na_allowed){\n",
    "        select[i] = FALSE\n",
    "    }\n",
    "}\n",
    "\n",
    "print('Removed columns:')\n",
    "names(loan_stats)[!select]\n",
    "loan_stats <- loan_stats[select]"
   ]
  },
  {
   "cell_type": "markdown",
   "metadata": {},
   "source": [
    "#### Other cleaning processes required:"
   ]
  },
  {
   "cell_type": "markdown",
   "metadata": {},
   "source": [
    "Removing irrelevant columns - <br>\n",
    "1. desc: Description for each loan. <br>\n",
    "2. id: Loan ID. <br>"
   ]
  },
  {
   "cell_type": "markdown",
   "metadata": {},
   "source": [
    "Removing columns that may need more data to be useful - <br>\n",
    "1. emp_title: The job title supplied by the Borrower when applying for the loan."
   ]
  },
  {
   "cell_type": "markdown",
   "metadata": {},
   "source": [
    "Removing redundant columns- <br>\n",
    "1. grade: LC assigned loan grade [redundant information as the interest rate column (int_rate)] <br>\n",
    "2. sub_grade:  LC assigned loan subgrade [redundant information as the interest rate column (int_rate)] <br>\n",
    "3. zip_code: The first 3 numbers of the zip code provided by the borrower in the loan application. [redundant with the (addr_state) column since only the first 3 digits of the 5 digit zip code are visible] "
   ]
  },
  {
   "cell_type": "markdown",
   "metadata": {},
   "source": [
    "Removing columns that contain future information - <br>\n",
    "1. funded_amnt: The total amount committed to that loan at that point in time.\n",
    "2. funded_amnt_inv: The total amount committed by investors for that loan at that point in time.\n",
    "3. issue_d: The month which the loan was funded.\n",
    "4. out_prncp: Remaining outstanding principal for total amount funded.\n",
    "5. out_prncp_inv: Remaining outstanding principal for portion of total amount funded by investors.\n",
    "6. total_pymnt:Payments received to date for total amount funded.\n",
    "7. total_pymnt_inv: Payments received to date for portion of total amount funded by investors.\n",
    "8. total_rec_prncp: Principal received to date.\n",
    "9. total_rec_int: Interest received to date.\n",
    "10. total_rec_late_fee: Late fees received to date.\n",
    "11. recoveries: Post charge off gross recovery.\n",
    "12. collection_recovery_fee: Post charge off collection fee.\n",
    "13. last_pymnt_d: Last month payment was received\n",
    "14. last_pymnt_amnt: Last total payment amount received.\n",
    "15. hardship_flag \n",
    "16. disbursement_method \n",
    "17. debt_settlement_flag \n",
    "18. debt_settlement_flag_date \n",
    "19. settlement_status \n",
    "20. settlement_date\n",
    "21. next_pymnt_d"
   ]
  },
  {
   "cell_type": "code",
   "execution_count": 5,
   "metadata": {
    "collapsed": true
   },
   "outputs": [],
   "source": [
    "loan_stats <- subset(loan_stats,select=-c(desc,id, emp_title, grade, sub_grade, zip_code, funded_amnt, funded_amnt_inv, issue_d, out_prncp, out_prncp_inv, total_pymnt, total_pymnt_inv, total_rec_prncp, total_rec_int, total_rec_late_fee, recoveries, collection_recovery_fee, last_pymnt_d, last_pymnt_amnt, hardship_flag, disbursement_method, debt_settlement_flag, debt_settlement_flag_date, settlement_status, settlement_date, next_pymnt_d))"
   ]
  },
  {
   "cell_type": "code",
   "execution_count": 6,
   "metadata": {},
   "outputs": [
    {
     "data": {
      "text/html": [
       "<ol class=list-inline>\n",
       "\t<li>42538</li>\n",
       "\t<li>32</li>\n",
       "</ol>\n"
      ],
      "text/latex": [
       "\\begin{enumerate*}\n",
       "\\item 42538\n",
       "\\item 32\n",
       "\\end{enumerate*}\n"
      ],
      "text/markdown": [
       "1. 42538\n",
       "2. 32\n",
       "\n",
       "\n"
      ],
      "text/plain": [
       "[1] 42538    32"
      ]
     },
     "metadata": {},
     "output_type": "display_data"
    }
   ],
   "source": [
    "dim(loan_stats)"
   ]
  },
  {
   "cell_type": "markdown",
   "metadata": {},
   "source": [
    "#### Inspecting target variable: loan_status"
   ]
  },
  {
   "cell_type": "code",
   "execution_count": 7,
   "metadata": {},
   "outputs": [
    {
     "data": {
      "text/plain": [
       "\n",
       "                                                    \n",
       "                                                  3 \n",
       "                                        Charged Off \n",
       "                                               5670 \n",
       "Does not meet the credit policy. Status:Charged Off \n",
       "                                                761 \n",
       " Does not meet the credit policy. Status:Fully Paid \n",
       "                                               1988 \n",
       "                                         Fully Paid \n",
       "                                              34116 "
      ]
     },
     "metadata": {},
     "output_type": "display_data"
    }
   ],
   "source": [
    "table(loan_stats$loan_status)"
   ]
  },
  {
   "cell_type": "markdown",
   "metadata": {},
   "source": [
    "#### Removing rows with loan status as - \n",
    "<p>\n",
    "1. Does not meet the credit policy. Status:Charged Off <br>\n",
    "2. Does not meet the credit policy. Status:Fully Paid <br>\n",
    "</p>\n",
    "\n",
    "These loans would not be approved on the marketplace today, therefore shouldn't factor into future considerations."
   ]
  },
  {
   "cell_type": "code",
   "execution_count": 8,
   "metadata": {},
   "outputs": [
    {
     "name": "stderr",
     "output_type": "stream",
     "text": [
      "Warning message:\n",
      "\"package 'dplyr' was built under R version 3.4.3\"\n",
      "Attaching package: 'dplyr'\n",
      "\n",
      "The following objects are masked from 'package:stats':\n",
      "\n",
      "    filter, lag\n",
      "\n",
      "The following objects are masked from 'package:base':\n",
      "\n",
      "    intersect, setdiff, setequal, union\n",
      "\n",
      "Warning message:\n",
      "\"package 'bindrcpp' was built under R version 3.4.3\""
     ]
    },
    {
     "name": "stdout",
     "output_type": "stream",
     "text": [
      "'data.frame':\t39786 obs. of  32 variables:\n",
      " $ loan_amnt                 : int  5000 2500 2400 10000 3000 5000 7000 3000 5600 5375 ...\n",
      " $ term                      : Factor w/ 3 levels \"\",\" 36 months\",..: 2 3 2 2 3 2 3 2 3 3 ...\n",
      " $ int_rate                  : Factor w/ 395 levels \"\",\"10.00%\",\"10.01%\",..: 19 162 180 101 76 363 180 263 311 76 ...\n",
      " $ installment               : num  162.9 59.8 84.3 339.3 67.8 ...\n",
      " $ emp_length                : Factor w/ 13 levels \"\",\"< 1 year\",..: 4 2 4 4 3 6 11 12 7 2 ...\n",
      " $ home_ownership            : Factor w/ 6 levels \"\",\"MORTGAGE\",..: 6 6 6 6 6 6 6 6 5 6 ...\n",
      " $ annual_inc                : num  24000 30000 12252 49200 80000 ...\n",
      " $ verification_status       : Factor w/ 4 levels \"\",\"Not Verified\",..: 4 3 2 3 3 3 2 3 3 4 ...\n",
      " $ loan_status               : Factor w/ 5 levels \"\",\"Charged Off\",..: 5 2 5 5 5 5 5 5 2 2 ...\n",
      " $ pymnt_plan                : Factor w/ 2 levels \"\",\"n\": 2 2 2 2 2 2 2 2 2 2 ...\n",
      " $ purpose                   : Factor w/ 15 levels \"\",\"car\",\"credit_card\",..: 3 2 13 11 11 15 4 2 13 11 ...\n",
      " $ title                     : Factor w/ 21256 levels \"\",\"'08 & '09 Roth IRA Investments\",..: 3687 1869 17212 16555 16309 13991 11996 2708 7527 2284 ...\n",
      " $ addr_state                : Factor w/ 51 levels \"\",\"AK\",\"AL\",\"AR\",..: 5 12 16 6 38 5 29 6 6 44 ...\n",
      " $ dti                       : num  27.65 1 8.72 20 17.94 ...\n",
      " $ delinq_2yrs               : int  0 0 0 0 0 0 0 0 0 0 ...\n",
      " $ earliest_cr_line          : Factor w/ 531 levels \"\",\"Apr-00\",\"Apr-01\",..: 203 45 391 172 214 394 223 183 6 489 ...\n",
      " $ inq_last_6mths            : int  1 5 2 1 0 3 1 2 2 0 ...\n",
      " $ open_acc                  : int  3 3 2 10 15 9 7 4 11 2 ...\n",
      " $ pub_rec                   : int  0 0 0 0 0 0 0 0 0 0 ...\n",
      " $ revol_bal                 : int  13648 1687 2956 5598 27783 7963 17726 8221 5210 9279 ...\n",
      " $ revol_util                : Factor w/ 1120 levels \"\",\"0%\",\"0.01%\",..: 944 1013 1106 192 595 278 963 982 337 382 ...\n",
      " $ total_acc                 : int  9 4 10 37 38 12 11 4 13 3 ...\n",
      " $ initial_list_status       : Factor w/ 2 levels \"\",\"f\": 2 2 2 2 2 2 2 2 2 2 ...\n",
      " $ last_credit_pull_d        : Factor w/ 126 levels \"\",\"Apr-09\",\"Apr-10\",..: 104 114 73 9 51 41 125 29 114 31 ...\n",
      " $ collections_12_mths_ex_med: int  0 0 0 0 0 0 0 0 0 0 ...\n",
      " $ policy_code               : int  1 1 1 1 1 1 1 1 1 1 ...\n",
      " $ application_type          : Factor w/ 2 levels \"\",\"Individual\": 2 2 2 2 2 2 2 2 2 2 ...\n",
      " $ acc_now_delinq            : int  0 0 0 0 0 0 0 0 0 0 ...\n",
      " $ chargeoff_within_12_mths  : int  0 0 0 0 0 0 0 0 0 0 ...\n",
      " $ delinq_amnt               : int  0 0 0 0 0 0 0 0 0 0 ...\n",
      " $ pub_rec_bankruptcies      : int  0 0 0 0 0 0 0 0 0 0 ...\n",
      " $ tax_liens                 : int  0 0 0 0 0 0 0 0 0 0 ...\n"
     ]
    }
   ],
   "source": [
    "library(dplyr)\n",
    "filtered_loan_stats <- loan_stats %>% filter(loan_status == 'Charged Off' | loan_status == 'Fully Paid')\n",
    "str(filtered_loan_stats)"
   ]
  },
  {
   "cell_type": "markdown",
   "metadata": {},
   "source": [
    "#### Remove columns with 1 unique value"
   ]
  },
  {
   "cell_type": "code",
   "execution_count": 9,
   "metadata": {},
   "outputs": [
    {
     "name": "stdout",
     "output_type": "stream",
     "text": [
      "[1] \"Removed columns:\"\n"
     ]
    },
    {
     "data": {
      "text/html": [
       "<ol class=list-inline>\n",
       "\t<li>'pymnt_plan'</li>\n",
       "\t<li>'initial_list_status'</li>\n",
       "\t<li>'collections_12_mths_ex_med'</li>\n",
       "\t<li>'policy_code'</li>\n",
       "\t<li>'application_type'</li>\n",
       "\t<li>'acc_now_delinq'</li>\n",
       "\t<li>'chargeoff_within_12_mths'</li>\n",
       "\t<li>'delinq_amnt'</li>\n",
       "\t<li>'tax_liens'</li>\n",
       "</ol>\n"
      ],
      "text/latex": [
       "\\begin{enumerate*}\n",
       "\\item 'pymnt\\_plan'\n",
       "\\item 'initial\\_list\\_status'\n",
       "\\item 'collections\\_12\\_mths\\_ex\\_med'\n",
       "\\item 'policy\\_code'\n",
       "\\item 'application\\_type'\n",
       "\\item 'acc\\_now\\_delinq'\n",
       "\\item 'chargeoff\\_within\\_12\\_mths'\n",
       "\\item 'delinq\\_amnt'\n",
       "\\item 'tax\\_liens'\n",
       "\\end{enumerate*}\n"
      ],
      "text/markdown": [
       "1. 'pymnt_plan'\n",
       "2. 'initial_list_status'\n",
       "3. 'collections_12_mths_ex_med'\n",
       "4. 'policy_code'\n",
       "5. 'application_type'\n",
       "6. 'acc_now_delinq'\n",
       "7. 'chargeoff_within_12_mths'\n",
       "8. 'delinq_amnt'\n",
       "9. 'tax_liens'\n",
       "\n",
       "\n"
      ],
      "text/plain": [
       "[1] \"pymnt_plan\"                 \"initial_list_status\"       \n",
       "[3] \"collections_12_mths_ex_med\" \"policy_code\"               \n",
       "[5] \"application_type\"           \"acc_now_delinq\"            \n",
       "[7] \"chargeoff_within_12_mths\"   \"delinq_amnt\"               \n",
       "[9] \"tax_liens\"                 "
      ]
     },
     "metadata": {},
     "output_type": "display_data"
    }
   ],
   "source": [
    "select <- sapply(filtered_loan_stats, function(x) length(unique(na.omit(x)))) > 1\n",
    "print('Removed columns:')\n",
    "names(filtered_loan_stats)[!select]    \n",
    "filtered_loan_stats <- filtered_loan_stats[select]"
   ]
  },
  {
   "cell_type": "markdown",
   "metadata": {},
   "source": [
    "#### Removing columns with more than 1% NA values -"
   ]
  },
  {
   "cell_type": "code",
   "execution_count": 10,
   "metadata": {},
   "outputs": [
    {
     "name": "stdout",
     "output_type": "stream",
     "text": [
      "[1] \"Removed columns:\"\n"
     ]
    },
    {
     "data": {
      "text/html": [
       "'pub_rec_bankruptcies'"
      ],
      "text/latex": [
       "'pub\\_rec\\_bankruptcies'"
      ],
      "text/markdown": [
       "'pub_rec_bankruptcies'"
      ],
      "text/plain": [
       "[1] \"pub_rec_bankruptcies\""
      ]
     },
     "metadata": {},
     "output_type": "display_data"
    }
   ],
   "source": [
    "select = rep(TRUE, ncol(filtered_loan_stats))\n",
    "max_na_allowed =  0.01*nrow(filtered_loan_stats)\n",
    "\n",
    "for(i in 1:ncol(filtered_loan_stats)){\n",
    "    if (sum(is.na(filtered_loan_stats[i])) > max_na_allowed){\n",
    "        select[i] = FALSE\n",
    "    }\n",
    "}\n",
    "print('Removed columns:')\n",
    "names(filtered_loan_stats)[!select]    \n",
    "filtered_loan_stats <- filtered_loan_stats[select]"
   ]
  },
  {
   "cell_type": "code",
   "execution_count": 11,
   "metadata": {},
   "outputs": [
    {
     "name": "stdout",
     "output_type": "stream",
     "text": [
      "'data.frame':\t39786 obs. of  22 variables:\n",
      " $ loan_amnt          : int  5000 2500 2400 10000 3000 5000 7000 3000 5600 5375 ...\n",
      " $ term               : Factor w/ 3 levels \"\",\" 36 months\",..: 2 3 2 2 3 2 3 2 3 3 ...\n",
      " $ int_rate           : Factor w/ 395 levels \"\",\"10.00%\",\"10.01%\",..: 19 162 180 101 76 363 180 263 311 76 ...\n",
      " $ installment        : num  162.9 59.8 84.3 339.3 67.8 ...\n",
      " $ emp_length         : Factor w/ 13 levels \"\",\"< 1 year\",..: 4 2 4 4 3 6 11 12 7 2 ...\n",
      " $ home_ownership     : Factor w/ 6 levels \"\",\"MORTGAGE\",..: 6 6 6 6 6 6 6 6 5 6 ...\n",
      " $ annual_inc         : num  24000 30000 12252 49200 80000 ...\n",
      " $ verification_status: Factor w/ 4 levels \"\",\"Not Verified\",..: 4 3 2 3 3 3 2 3 3 4 ...\n",
      " $ loan_status        : Factor w/ 5 levels \"\",\"Charged Off\",..: 5 2 5 5 5 5 5 5 2 2 ...\n",
      " $ purpose            : Factor w/ 15 levels \"\",\"car\",\"credit_card\",..: 3 2 13 11 11 15 4 2 13 11 ...\n",
      " $ title              : Factor w/ 21256 levels \"\",\"'08 & '09 Roth IRA Investments\",..: 3687 1869 17212 16555 16309 13991 11996 2708 7527 2284 ...\n",
      " $ addr_state         : Factor w/ 51 levels \"\",\"AK\",\"AL\",\"AR\",..: 5 12 16 6 38 5 29 6 6 44 ...\n",
      " $ dti                : num  27.65 1 8.72 20 17.94 ...\n",
      " $ delinq_2yrs        : int  0 0 0 0 0 0 0 0 0 0 ...\n",
      " $ earliest_cr_line   : Factor w/ 531 levels \"\",\"Apr-00\",\"Apr-01\",..: 203 45 391 172 214 394 223 183 6 489 ...\n",
      " $ inq_last_6mths     : int  1 5 2 1 0 3 1 2 2 0 ...\n",
      " $ open_acc           : int  3 3 2 10 15 9 7 4 11 2 ...\n",
      " $ pub_rec            : int  0 0 0 0 0 0 0 0 0 0 ...\n",
      " $ revol_bal          : int  13648 1687 2956 5598 27783 7963 17726 8221 5210 9279 ...\n",
      " $ revol_util         : Factor w/ 1120 levels \"\",\"0%\",\"0.01%\",..: 944 1013 1106 192 595 278 963 982 337 382 ...\n",
      " $ total_acc          : int  9 4 10 37 38 12 11 4 13 3 ...\n",
      " $ last_credit_pull_d : Factor w/ 126 levels \"\",\"Apr-09\",\"Apr-10\",..: 104 114 73 9 51 41 125 29 114 31 ...\n"
     ]
    }
   ],
   "source": [
    "str(filtered_loan_stats)"
   ]
  },
  {
   "cell_type": "markdown",
   "metadata": {},
   "source": [
    "#### Columns that need to be transformed - \n",
    "\n",
    "Categorical - \n",
    "1. term - factor (36 months) -> factor (36)?\n",
    "2. emp_length - factor(10+ years)\n",
    "3. home_ownership - factor(rent)\n",
    "4. verification_status - factor(Verified)\n",
    "5. purpose - factor(credit card)\n",
    "6. title- Computer\n",
    "7. addr_state - AZ"
   ]
  },
  {
   "cell_type": "markdown",
   "metadata": {},
   "source": [
    "Numerical - \n",
    "1. int_rate\n",
    "2. revol_until"
   ]
  },
  {
   "cell_type": "markdown",
   "metadata": {},
   "source": [
    "Date values- \n",
    "1. earliest_cr_line - Jan-1985\n",
    "2. last_credit_pull_d - Jun-2016"
   ]
  },
  {
   "cell_type": "markdown",
   "metadata": {},
   "source": [
    "#### Removing date values, as they require additional processing - "
   ]
  },
  {
   "cell_type": "code",
   "execution_count": 12,
   "metadata": {
    "collapsed": true
   },
   "outputs": [],
   "source": [
    "filtered_loan_stats <- subset(filtered_loan_stats,select=-c(earliest_cr_line,last_credit_pull_d))"
   ]
  },
  {
   "cell_type": "markdown",
   "metadata": {},
   "source": [
    "#### Converting int_rate, revol_until to numerical values - "
   ]
  },
  {
   "cell_type": "code",
   "execution_count": 13,
   "metadata": {
    "collapsed": true
   },
   "outputs": [],
   "source": [
    "filtered_loan_stats$int_rate <- sapply(filtered_loan_stats$int_rate, function (x) as.numeric(sub('%','',x)))\n",
    "filtered_loan_stats$revol_util <- sapply(filtered_loan_stats$revol_util, function (x) as.numeric(sub('%','',x)))"
   ]
  },
  {
   "cell_type": "markdown",
   "metadata": {},
   "source": [
    "#### Exploring factor variables"
   ]
  },
  {
   "cell_type": "code",
   "execution_count": 14,
   "metadata": {},
   "outputs": [
    {
     "data": {
      "text/html": [
       "<dl class=dl-horizontal>\n",
       "\t<dt>term</dt>\n",
       "\t\t<dd>TRUE</dd>\n",
       "\t<dt>emp_length</dt>\n",
       "\t\t<dd>TRUE</dd>\n",
       "\t<dt>home_ownership</dt>\n",
       "\t\t<dd>TRUE</dd>\n",
       "\t<dt>verification_status</dt>\n",
       "\t\t<dd>TRUE</dd>\n",
       "\t<dt>loan_status</dt>\n",
       "\t\t<dd>TRUE</dd>\n",
       "\t<dt>purpose</dt>\n",
       "\t\t<dd>TRUE</dd>\n",
       "\t<dt>title</dt>\n",
       "\t\t<dd>TRUE</dd>\n",
       "\t<dt>addr_state</dt>\n",
       "\t\t<dd>TRUE</dd>\n",
       "</dl>\n"
      ],
      "text/latex": [
       "\\begin{description*}\n",
       "\\item[term] TRUE\n",
       "\\item[emp\\textbackslash{}\\_length] TRUE\n",
       "\\item[home\\textbackslash{}\\_ownership] TRUE\n",
       "\\item[verification\\textbackslash{}\\_status] TRUE\n",
       "\\item[loan\\textbackslash{}\\_status] TRUE\n",
       "\\item[purpose] TRUE\n",
       "\\item[title] TRUE\n",
       "\\item[addr\\textbackslash{}\\_state] TRUE\n",
       "\\end{description*}\n"
      ],
      "text/markdown": [
       "term\n",
       ":   TRUEemp_length\n",
       ":   TRUEhome_ownership\n",
       ":   TRUEverification_status\n",
       ":   TRUEloan_status\n",
       ":   TRUEpurpose\n",
       ":   TRUEtitle\n",
       ":   TRUEaddr_state\n",
       ":   TRUE\n",
       "\n"
      ],
      "text/plain": [
       "               term          emp_length      home_ownership verification_status \n",
       "               TRUE                TRUE                TRUE                TRUE \n",
       "        loan_status             purpose               title          addr_state \n",
       "               TRUE                TRUE                TRUE                TRUE "
      ]
     },
     "metadata": {},
     "output_type": "display_data"
    }
   ],
   "source": [
    "factor_cols <- sapply(filtered_loan_stats, is.factor)\n",
    "factor_cols[factor_cols == TRUE]"
   ]
  },
  {
   "cell_type": "code",
   "execution_count": 15,
   "metadata": {},
   "outputs": [
    {
     "name": "stdout",
     "output_type": "stream",
     "text": [
      "'data.frame':\t39786 obs. of  8 variables:\n",
      " $ term               : Factor w/ 3 levels \"\",\" 36 months\",..: 2 3 2 2 3 2 3 2 3 3 ...\n",
      " $ emp_length         : Factor w/ 13 levels \"\",\"< 1 year\",..: 4 2 4 4 3 6 11 12 7 2 ...\n",
      " $ home_ownership     : Factor w/ 6 levels \"\",\"MORTGAGE\",..: 6 6 6 6 6 6 6 6 5 6 ...\n",
      " $ verification_status: Factor w/ 4 levels \"\",\"Not Verified\",..: 4 3 2 3 3 3 2 3 3 4 ...\n",
      " $ loan_status        : Factor w/ 5 levels \"\",\"Charged Off\",..: 5 2 5 5 5 5 5 5 2 2 ...\n",
      " $ purpose            : Factor w/ 15 levels \"\",\"car\",\"credit_card\",..: 3 2 13 11 11 15 4 2 13 11 ...\n",
      " $ title              : Factor w/ 21256 levels \"\",\"'08 & '09 Roth IRA Investments\",..: 3687 1869 17212 16555 16309 13991 11996 2708 7527 2284 ...\n",
      " $ addr_state         : Factor w/ 51 levels \"\",\"AK\",\"AL\",\"AR\",..: 5 12 16 6 38 5 29 6 6 44 ...\n"
     ]
    }
   ],
   "source": [
    "str(filtered_loan_stats[factor_cols])"
   ]
  },
  {
   "cell_type": "markdown",
   "metadata": {},
   "source": [
    "#### Removing title as title is a human entered field and its information can be gathered from purpose."
   ]
  },
  {
   "cell_type": "code",
   "execution_count": 16,
   "metadata": {
    "collapsed": true
   },
   "outputs": [],
   "source": [
    "filtered_loan_stats <- subset(filtered_loan_stats,select=-c(title))"
   ]
  },
  {
   "cell_type": "code",
   "execution_count": 17,
   "metadata": {},
   "outputs": [
    {
     "name": "stdout",
     "output_type": "stream",
     "text": [
      "'data.frame':\t39786 obs. of  19 variables:\n",
      " $ loan_amnt          : int  5000 2500 2400 10000 3000 5000 7000 3000 5600 5375 ...\n",
      " $ term               : Factor w/ 2 levels \" 36 months\",\" 60 months\": 1 2 1 1 2 1 2 1 2 2 ...\n",
      " $ int_rate           : num  10.6 15.3 16 13.5 12.7 ...\n",
      " $ installment        : num  162.9 59.8 84.3 339.3 67.8 ...\n",
      " $ emp_length         : Factor w/ 12 levels \"< 1 year\",\"1 year\",..: 3 1 3 3 2 5 10 11 6 1 ...\n",
      " $ home_ownership     : Factor w/ 5 levels \"MORTGAGE\",\"NONE\",..: 5 5 5 5 5 5 5 5 4 5 ...\n",
      " $ annual_inc         : num  24000 30000 12252 49200 80000 ...\n",
      " $ verification_status: Factor w/ 3 levels \"Not Verified\",..: 3 2 1 2 2 2 1 2 2 3 ...\n",
      " $ loan_status        : Factor w/ 2 levels \"Charged Off\",..: 2 1 2 2 2 2 2 2 1 1 ...\n",
      " $ purpose            : Factor w/ 14 levels \"car\",\"credit_card\",..: 2 1 12 10 10 14 3 1 12 10 ...\n",
      " $ addr_state         : Factor w/ 50 levels \"AK\",\"AL\",\"AR\",..: 4 11 15 5 37 4 28 5 5 43 ...\n",
      " $ dti                : num  27.65 1 8.72 20 17.94 ...\n",
      " $ delinq_2yrs        : int  0 0 0 0 0 0 0 0 0 0 ...\n",
      " $ inq_last_6mths     : int  1 5 2 1 0 3 1 2 2 0 ...\n",
      " $ open_acc           : int  3 3 2 10 15 9 7 4 11 2 ...\n",
      " $ pub_rec            : int  0 0 0 0 0 0 0 0 0 0 ...\n",
      " $ revol_bal          : int  13648 1687 2956 5598 27783 7963 17726 8221 5210 9279 ...\n",
      " $ revol_util         : num  83.7 9.4 98.5 21 53.9 28.3 85.6 87.5 32.6 36.5 ...\n",
      " $ total_acc          : int  9 4 10 37 38 12 11 4 13 3 ...\n"
     ]
    }
   ],
   "source": [
    "factor_col_names <- c('term','emp_length','home_ownership','verification_status','loan_status','purpose','addr_state')\n",
    "for (col in factor_col_names){\n",
    "    filtered_loan_stats[col] <- droplevels(filtered_loan_stats[col])\n",
    "}\n",
    "str(filtered_loan_stats)"
   ]
  },
  {
   "cell_type": "markdown",
   "metadata": {},
   "source": [
    "#### Exploring emp_length"
   ]
  },
  {
   "cell_type": "code",
   "execution_count": 18,
   "metadata": {},
   "outputs": [
    {
     "data": {
      "text/plain": [
       "\n",
       " < 1 year    1 year 10+ years   2 years   3 years   4 years   5 years   6 years \n",
       "     4590      3247      8899      4394      4098      3444      3286      2231 \n",
       "  7 years   8 years   9 years       n/a \n",
       "     1775      1485      1259      1078 "
      ]
     },
     "metadata": {},
     "output_type": "display_data"
    }
   ],
   "source": [
    "table(filtered_loan_stats$emp_length)"
   ]
  },
  {
   "cell_type": "code",
   "execution_count": 19,
   "metadata": {
    "collapsed": true
   },
   "outputs": [],
   "source": [
    "filtered_loan_stats <- filtered_loan_stats %>% filter(emp_length != 'n/a')"
   ]
  },
  {
   "cell_type": "markdown",
   "metadata": {},
   "source": [
    "#### Removing rows with NA values"
   ]
  },
  {
   "cell_type": "code",
   "execution_count": 20,
   "metadata": {},
   "outputs": [
    {
     "name": "stdout",
     "output_type": "stream",
     "text": [
      "'data.frame':\t38661 obs. of  19 variables:\n",
      " $ loan_amnt          : int  5000 2500 2400 10000 3000 5000 7000 3000 5600 5375 ...\n",
      " $ term               : Factor w/ 2 levels \" 36 months\",\" 60 months\": 1 2 1 1 2 1 2 1 2 2 ...\n",
      " $ int_rate           : num  10.6 15.3 16 13.5 12.7 ...\n",
      " $ installment        : num  162.9 59.8 84.3 339.3 67.8 ...\n",
      " $ emp_length         : Factor w/ 12 levels \"< 1 year\",\"1 year\",..: 3 1 3 3 2 5 10 11 6 1 ...\n",
      " $ home_ownership     : Factor w/ 5 levels \"MORTGAGE\",\"NONE\",..: 5 5 5 5 5 5 5 5 4 5 ...\n",
      " $ annual_inc         : num  24000 30000 12252 49200 80000 ...\n",
      " $ verification_status: Factor w/ 3 levels \"Not Verified\",..: 3 2 1 2 2 2 1 2 2 3 ...\n",
      " $ loan_status        : Factor w/ 2 levels \"Charged Off\",..: 2 1 2 2 2 2 2 2 1 1 ...\n",
      " $ purpose            : Factor w/ 14 levels \"car\",\"credit_card\",..: 2 1 12 10 10 14 3 1 12 10 ...\n",
      " $ addr_state         : Factor w/ 50 levels \"AK\",\"AL\",\"AR\",..: 4 11 15 5 37 4 28 5 5 43 ...\n",
      " $ dti                : num  27.65 1 8.72 20 17.94 ...\n",
      " $ delinq_2yrs        : int  0 0 0 0 0 0 0 0 0 0 ...\n",
      " $ inq_last_6mths     : int  1 5 2 1 0 3 1 2 2 0 ...\n",
      " $ open_acc           : int  3 3 2 10 15 9 7 4 11 2 ...\n",
      " $ pub_rec            : int  0 0 0 0 0 0 0 0 0 0 ...\n",
      " $ revol_bal          : int  13648 1687 2956 5598 27783 7963 17726 8221 5210 9279 ...\n",
      " $ revol_util         : num  83.7 9.4 98.5 21 53.9 28.3 85.6 87.5 32.6 36.5 ...\n",
      " $ total_acc          : int  9 4 10 37 38 12 11 4 13 3 ...\n",
      " - attr(*, \"na.action\")=Class 'omit'  Named int [1:47] 3473 4786 11645 11748 13441 17416 17618 20914 23878 23948 ...\n",
      "  .. ..- attr(*, \"names\")= chr [1:47] \"3473\" \"4786\" \"11645\" \"11748\" ...\n"
     ]
    }
   ],
   "source": [
    "filtered_loan_stats <- na.omit(filtered_loan_stats)\n",
    "str(filtered_loan_stats)"
   ]
  },
  {
   "cell_type": "markdown",
   "metadata": {},
   "source": [
    "#### After cleaning the data, we have 38,661 observations with 19 variables, stored in the 'filtered_loan_stats' data frame."
   ]
  },
  {
   "cell_type": "markdown",
   "metadata": {},
   "source": [
    "### Analysis"
   ]
  },
  {
   "cell_type": "markdown",
   "metadata": {},
   "source": [
    "#### Model 1: Logistic Regression \n",
    "As our target variable (loan_status) takes only two levels ['Fully Paid', 'Charged Off'], logistic regression seems likes a decent choice. "
   ]
  },
  {
   "cell_type": "code",
   "execution_count": 21,
   "metadata": {
    "collapsed": true
   },
   "outputs": [],
   "source": [
    "loans <- filtered_loan_stats\n",
    "factor_cols <- sapply(loans, is.factor)"
   ]
  },
  {
   "cell_type": "markdown",
   "metadata": {},
   "source": [
    "#### Feature Selection\n",
    "Given that the data has 19 variables, forward stepwise selection seems to be the least computationally expensive choice among stepwise feature selection methods. "
   ]
  },
  {
   "cell_type": "markdown",
   "metadata": {},
   "source": [
    "#### Converting factor variables to dummy variables"
   ]
  },
  {
   "cell_type": "code",
   "execution_count": 22,
   "metadata": {},
   "outputs": [
    {
     "data": {
      "text/html": [
       "<ol class=list-inline>\n",
       "\t<li>'10 years'</li>\n",
       "\t<li>'0 year'</li>\n",
       "\t<li>'10 years'</li>\n",
       "\t<li>'10 years'</li>\n",
       "\t<li>'1 year'</li>\n",
       "\t<li>'3 years'</li>\n",
       "</ol>\n"
      ],
      "text/latex": [
       "\\begin{enumerate*}\n",
       "\\item '10 years'\n",
       "\\item '0 year'\n",
       "\\item '10 years'\n",
       "\\item '10 years'\n",
       "\\item '1 year'\n",
       "\\item '3 years'\n",
       "\\end{enumerate*}\n"
      ],
      "text/markdown": [
       "1. '10 years'\n",
       "2. '0 year'\n",
       "3. '10 years'\n",
       "4. '10 years'\n",
       "5. '1 year'\n",
       "6. '3 years'\n",
       "\n",
       "\n"
      ],
      "text/plain": [
       "[1] \"10 years\" \"0 year\"   \"10 years\" \"10 years\" \"1 year\"   \"3 years\" "
      ]
     },
     "metadata": {},
     "output_type": "display_data"
    }
   ],
   "source": [
    "loans$emp_length <- sapply(loans$emp_length, function(x) sub('< 1','0',x))\n",
    "loans$emp_length <- sapply(loans$emp_length, function(x) ifelse(x=='10+ years', '10 years', x))\n",
    "head(loans$emp_length)"
   ]
  },
  {
   "cell_type": "code",
   "execution_count": 23,
   "metadata": {},
   "outputs": [
    {
     "data": {
      "text/html": [
       "<table>\n",
       "<thead><tr><th scope=col>term</th><th scope=col>emp_length</th><th scope=col>home_ownership</th><th scope=col>verification_status</th><th scope=col>loan_status</th><th scope=col>purpose</th><th scope=col>addr_state</th></tr></thead>\n",
       "<tbody>\n",
       "\t<tr><td>36_months      </td><td>10_years       </td><td>RENT           </td><td>Verified       </td><td>Fully_Paid     </td><td>credit_card    </td><td>AZ             </td></tr>\n",
       "\t<tr><td>60_months      </td><td>0_year         </td><td>RENT           </td><td>Source_Verified</td><td>Charged_Off    </td><td>car            </td><td>GA             </td></tr>\n",
       "\t<tr><td>36_months      </td><td>10_years       </td><td>RENT           </td><td>Not_Verified   </td><td>Fully_Paid     </td><td>small_business </td><td>IL             </td></tr>\n",
       "\t<tr><td>36_months      </td><td>10_years       </td><td>RENT           </td><td>Source_Verified</td><td>Fully_Paid     </td><td>other          </td><td>CA             </td></tr>\n",
       "\t<tr><td>60_months      </td><td>1_year         </td><td>RENT           </td><td>Source_Verified</td><td>Fully_Paid     </td><td>other          </td><td>OR             </td></tr>\n",
       "\t<tr><td>36_months      </td><td>3_years        </td><td>RENT           </td><td>Source_Verified</td><td>Fully_Paid     </td><td>wedding        </td><td>AZ             </td></tr>\n",
       "</tbody>\n",
       "</table>\n"
      ],
      "text/latex": [
       "\\begin{tabular}{r|lllllll}\n",
       " term & emp\\_length & home\\_ownership & verification\\_status & loan\\_status & purpose & addr\\_state\\\\\n",
       "\\hline\n",
       "\t 36\\_months      & 10\\_years       & RENT             & Verified         & Fully\\_Paid     & credit\\_card    & AZ              \\\\\n",
       "\t 60\\_months       & 0\\_year          & RENT              & Source\\_Verified & Charged\\_Off     & car               & GA               \\\\\n",
       "\t 36\\_months       & 10\\_years        & RENT              & Not\\_Verified    & Fully\\_Paid      & small\\_business  & IL               \\\\\n",
       "\t 36\\_months       & 10\\_years        & RENT              & Source\\_Verified & Fully\\_Paid      & other             & CA               \\\\\n",
       "\t 60\\_months       & 1\\_year          & RENT              & Source\\_Verified & Fully\\_Paid      & other             & OR               \\\\\n",
       "\t 36\\_months       & 3\\_years         & RENT              & Source\\_Verified & Fully\\_Paid      & wedding           & AZ               \\\\\n",
       "\\end{tabular}\n"
      ],
      "text/markdown": [
       "\n",
       "term | emp_length | home_ownership | verification_status | loan_status | purpose | addr_state | \n",
       "|---|---|---|---|---|---|\n",
       "| 36_months       | 10_years        | RENT            | Verified        | Fully_Paid      | credit_card     | AZ              | \n",
       "| 60_months       | 0_year          | RENT            | Source_Verified | Charged_Off     | car             | GA              | \n",
       "| 36_months       | 10_years        | RENT            | Not_Verified    | Fully_Paid      | small_business  | IL              | \n",
       "| 36_months       | 10_years        | RENT            | Source_Verified | Fully_Paid      | other           | CA              | \n",
       "| 60_months       | 1_year          | RENT            | Source_Verified | Fully_Paid      | other           | OR              | \n",
       "| 36_months       | 3_years         | RENT            | Source_Verified | Fully_Paid      | wedding         | AZ              | \n",
       "\n",
       "\n"
      ],
      "text/plain": [
       "  term      emp_length home_ownership verification_status loan_status\n",
       "1 36_months 10_years   RENT           Verified            Fully_Paid \n",
       "2 60_months 0_year     RENT           Source_Verified     Charged_Off\n",
       "3 36_months 10_years   RENT           Not_Verified        Fully_Paid \n",
       "4 36_months 10_years   RENT           Source_Verified     Fully_Paid \n",
       "5 60_months 1_year     RENT           Source_Verified     Fully_Paid \n",
       "6 36_months 3_years    RENT           Source_Verified     Fully_Paid \n",
       "  purpose        addr_state\n",
       "1 credit_card    AZ        \n",
       "2 car            GA        \n",
       "3 small_business IL        \n",
       "4 other          CA        \n",
       "5 other          OR        \n",
       "6 wedding        AZ        "
      ]
     },
     "metadata": {},
     "output_type": "display_data"
    }
   ],
   "source": [
    "factor_cols_data <- loans[factor_cols]\n",
    "loans[factor_cols] <- sapply(factor_cols_data, function(x) sub(' ','_',trimws(x)))\n",
    "head(loans[factor_cols])"
   ]
  },
  {
   "cell_type": "code",
   "execution_count": 24,
   "metadata": {},
   "outputs": [
    {
     "name": "stderr",
     "output_type": "stream",
     "text": [
      "Warning message:\n",
      "\"package 'ade4' was built under R version 3.4.3\""
     ]
    },
    {
     "data": {
      "text/html": [
       "<table>\n",
       "<thead><tr><th scope=col>term.36_months</th><th scope=col>term.60_months</th><th scope=col>emp_length.0_year</th><th scope=col>emp_length.1_year</th><th scope=col>emp_length.10_years</th><th scope=col>emp_length.2_years</th><th scope=col>emp_length.3_years</th><th scope=col>emp_length.4_years</th><th scope=col>emp_length.5_years</th><th scope=col>emp_length.6_years</th><th scope=col>...</th><th scope=col>addr_state.SD</th><th scope=col>addr_state.TN</th><th scope=col>addr_state.TX</th><th scope=col>addr_state.UT</th><th scope=col>addr_state.VA</th><th scope=col>addr_state.VT</th><th scope=col>addr_state.WA</th><th scope=col>addr_state.WI</th><th scope=col>addr_state.WV</th><th scope=col>addr_state.WY</th></tr></thead>\n",
       "<tbody>\n",
       "\t<tr><td>1  </td><td>0  </td><td>0  </td><td>0  </td><td>1  </td><td>0  </td><td>0  </td><td>0  </td><td>0  </td><td>0  </td><td>...</td><td>0  </td><td>0  </td><td>0  </td><td>0  </td><td>0  </td><td>0  </td><td>0  </td><td>0  </td><td>0  </td><td>0  </td></tr>\n",
       "\t<tr><td>0  </td><td>1  </td><td>1  </td><td>0  </td><td>0  </td><td>0  </td><td>0  </td><td>0  </td><td>0  </td><td>0  </td><td>...</td><td>0  </td><td>0  </td><td>0  </td><td>0  </td><td>0  </td><td>0  </td><td>0  </td><td>0  </td><td>0  </td><td>0  </td></tr>\n",
       "\t<tr><td>1  </td><td>0  </td><td>0  </td><td>0  </td><td>1  </td><td>0  </td><td>0  </td><td>0  </td><td>0  </td><td>0  </td><td>...</td><td>0  </td><td>0  </td><td>0  </td><td>0  </td><td>0  </td><td>0  </td><td>0  </td><td>0  </td><td>0  </td><td>0  </td></tr>\n",
       "\t<tr><td>1  </td><td>0  </td><td>0  </td><td>0  </td><td>1  </td><td>0  </td><td>0  </td><td>0  </td><td>0  </td><td>0  </td><td>...</td><td>0  </td><td>0  </td><td>0  </td><td>0  </td><td>0  </td><td>0  </td><td>0  </td><td>0  </td><td>0  </td><td>0  </td></tr>\n",
       "\t<tr><td>0  </td><td>1  </td><td>0  </td><td>1  </td><td>0  </td><td>0  </td><td>0  </td><td>0  </td><td>0  </td><td>0  </td><td>...</td><td>0  </td><td>0  </td><td>0  </td><td>0  </td><td>0  </td><td>0  </td><td>0  </td><td>0  </td><td>0  </td><td>0  </td></tr>\n",
       "\t<tr><td>1  </td><td>0  </td><td>0  </td><td>0  </td><td>0  </td><td>0  </td><td>1  </td><td>0  </td><td>0  </td><td>0  </td><td>...</td><td>0  </td><td>0  </td><td>0  </td><td>0  </td><td>0  </td><td>0  </td><td>0  </td><td>0  </td><td>0  </td><td>0  </td></tr>\n",
       "</tbody>\n",
       "</table>\n"
      ],
      "text/latex": [
       "\\begin{tabular}{r|lllllllllllllllllllllllllllllllllllllllllllllllllllllllllllllllllllllllllllllllllllllll}\n",
       " term.36\\_months & term.60\\_months & emp\\_length.0\\_year & emp\\_length.1\\_year & emp\\_length.10\\_years & emp\\_length.2\\_years & emp\\_length.3\\_years & emp\\_length.4\\_years & emp\\_length.5\\_years & emp\\_length.6\\_years & ... & addr\\_state.SD & addr\\_state.TN & addr\\_state.TX & addr\\_state.UT & addr\\_state.VA & addr\\_state.VT & addr\\_state.WA & addr\\_state.WI & addr\\_state.WV & addr\\_state.WY\\\\\n",
       "\\hline\n",
       "\t 1   & 0   & 0   & 0   & 1   & 0   & 0   & 0   & 0   & 0   & ... & 0   & 0   & 0   & 0   & 0   & 0   & 0   & 0   & 0   & 0  \\\\\n",
       "\t 0   & 1   & 1   & 0   & 0   & 0   & 0   & 0   & 0   & 0   & ... & 0   & 0   & 0   & 0   & 0   & 0   & 0   & 0   & 0   & 0  \\\\\n",
       "\t 1   & 0   & 0   & 0   & 1   & 0   & 0   & 0   & 0   & 0   & ... & 0   & 0   & 0   & 0   & 0   & 0   & 0   & 0   & 0   & 0  \\\\\n",
       "\t 1   & 0   & 0   & 0   & 1   & 0   & 0   & 0   & 0   & 0   & ... & 0   & 0   & 0   & 0   & 0   & 0   & 0   & 0   & 0   & 0  \\\\\n",
       "\t 0   & 1   & 0   & 1   & 0   & 0   & 0   & 0   & 0   & 0   & ... & 0   & 0   & 0   & 0   & 0   & 0   & 0   & 0   & 0   & 0  \\\\\n",
       "\t 1   & 0   & 0   & 0   & 0   & 0   & 1   & 0   & 0   & 0   & ... & 0   & 0   & 0   & 0   & 0   & 0   & 0   & 0   & 0   & 0  \\\\\n",
       "\\end{tabular}\n"
      ],
      "text/markdown": [
       "\n",
       "term.36_months | term.60_months | emp_length.0_year | emp_length.1_year | emp_length.10_years | emp_length.2_years | emp_length.3_years | emp_length.4_years | emp_length.5_years | emp_length.6_years | ... | addr_state.SD | addr_state.TN | addr_state.TX | addr_state.UT | addr_state.VA | addr_state.VT | addr_state.WA | addr_state.WI | addr_state.WV | addr_state.WY | \n",
       "|---|---|---|---|---|---|\n",
       "| 1   | 0   | 0   | 0   | 1   | 0   | 0   | 0   | 0   | 0   | ... | 0   | 0   | 0   | 0   | 0   | 0   | 0   | 0   | 0   | 0   | \n",
       "| 0   | 1   | 1   | 0   | 0   | 0   | 0   | 0   | 0   | 0   | ... | 0   | 0   | 0   | 0   | 0   | 0   | 0   | 0   | 0   | 0   | \n",
       "| 1   | 0   | 0   | 0   | 1   | 0   | 0   | 0   | 0   | 0   | ... | 0   | 0   | 0   | 0   | 0   | 0   | 0   | 0   | 0   | 0   | \n",
       "| 1   | 0   | 0   | 0   | 1   | 0   | 0   | 0   | 0   | 0   | ... | 0   | 0   | 0   | 0   | 0   | 0   | 0   | 0   | 0   | 0   | \n",
       "| 0   | 1   | 0   | 1   | 0   | 0   | 0   | 0   | 0   | 0   | ... | 0   | 0   | 0   | 0   | 0   | 0   | 0   | 0   | 0   | 0   | \n",
       "| 1   | 0   | 0   | 0   | 0   | 0   | 1   | 0   | 0   | 0   | ... | 0   | 0   | 0   | 0   | 0   | 0   | 0   | 0   | 0   | 0   | \n",
       "\n",
       "\n"
      ],
      "text/plain": [
       "  term.36_months term.60_months emp_length.0_year emp_length.1_year\n",
       "1 1              0              0                 0                \n",
       "2 0              1              1                 0                \n",
       "3 1              0              0                 0                \n",
       "4 1              0              0                 0                \n",
       "5 0              1              0                 1                \n",
       "6 1              0              0                 0                \n",
       "  emp_length.10_years emp_length.2_years emp_length.3_years emp_length.4_years\n",
       "1 1                   0                  0                  0                 \n",
       "2 0                   0                  0                  0                 \n",
       "3 1                   0                  0                  0                 \n",
       "4 1                   0                  0                  0                 \n",
       "5 0                   0                  0                  0                 \n",
       "6 0                   0                  1                  0                 \n",
       "  emp_length.5_years emp_length.6_years ... addr_state.SD addr_state.TN\n",
       "1 0                  0                  ... 0             0            \n",
       "2 0                  0                  ... 0             0            \n",
       "3 0                  0                  ... 0             0            \n",
       "4 0                  0                  ... 0             0            \n",
       "5 0                  0                  ... 0             0            \n",
       "6 0                  0                  ... 0             0            \n",
       "  addr_state.TX addr_state.UT addr_state.VA addr_state.VT addr_state.WA\n",
       "1 0             0             0             0             0            \n",
       "2 0             0             0             0             0            \n",
       "3 0             0             0             0             0            \n",
       "4 0             0             0             0             0            \n",
       "5 0             0             0             0             0            \n",
       "6 0             0             0             0             0            \n",
       "  addr_state.WI addr_state.WV addr_state.WY\n",
       "1 0             0             0            \n",
       "2 0             0             0            \n",
       "3 0             0             0            \n",
       "4 0             0             0            \n",
       "5 0             0             0            \n",
       "6 0             0             0            "
      ]
     },
     "metadata": {},
     "output_type": "display_data"
    }
   ],
   "source": [
    "library(ade4)\n",
    "factor_dummy_cols <- acm.disjonctif(loans[factor_cols])\n",
    "head(factor_dummy_cols)"
   ]
  },
  {
   "cell_type": "code",
   "execution_count": 25,
   "metadata": {},
   "outputs": [
    {
     "name": "stdout",
     "output_type": "stream",
     "text": [
      "'data.frame':\t38661 obs. of  99 variables:\n",
      " $ loan_amnt                          : int  5000 2500 2400 10000 3000 5000 7000 3000 5600 5375 ...\n",
      " $ int_rate                           : num  10.6 15.3 16 13.5 12.7 ...\n",
      " $ installment                        : num  162.9 59.8 84.3 339.3 67.8 ...\n",
      " $ annual_inc                         : num  24000 30000 12252 49200 80000 ...\n",
      " $ dti                                : num  27.65 1 8.72 20 17.94 ...\n",
      " $ delinq_2yrs                        : int  0 0 0 0 0 0 0 0 0 0 ...\n",
      " $ inq_last_6mths                     : int  1 5 2 1 0 3 1 2 2 0 ...\n",
      " $ open_acc                           : int  3 3 2 10 15 9 7 4 11 2 ...\n",
      " $ pub_rec                            : int  0 0 0 0 0 0 0 0 0 0 ...\n",
      " $ revol_bal                          : int  13648 1687 2956 5598 27783 7963 17726 8221 5210 9279 ...\n",
      " $ revol_util                         : num  83.7 9.4 98.5 21 53.9 28.3 85.6 87.5 32.6 36.5 ...\n",
      " $ total_acc                          : int  9 4 10 37 38 12 11 4 13 3 ...\n",
      " $ term.36_months                     : num  1 0 1 1 0 1 0 1 0 0 ...\n",
      " $ term.60_months                     : num  0 1 0 0 1 0 1 0 1 1 ...\n",
      " $ emp_length.0_year                  : num  0 1 0 0 0 0 0 0 0 1 ...\n",
      " $ emp_length.1_year                  : num  0 0 0 0 1 0 0 0 0 0 ...\n",
      " $ emp_length.10_years                : num  1 0 1 1 0 0 0 0 0 0 ...\n",
      " $ emp_length.2_years                 : num  0 0 0 0 0 0 0 0 0 0 ...\n",
      " $ emp_length.3_years                 : num  0 0 0 0 0 1 0 0 0 0 ...\n",
      " $ emp_length.4_years                 : num  0 0 0 0 0 0 0 0 1 0 ...\n",
      " $ emp_length.5_years                 : num  0 0 0 0 0 0 0 0 0 0 ...\n",
      " $ emp_length.6_years                 : num  0 0 0 0 0 0 0 0 0 0 ...\n",
      " $ emp_length.7_years                 : num  0 0 0 0 0 0 0 0 0 0 ...\n",
      " $ emp_length.8_years                 : num  0 0 0 0 0 0 1 0 0 0 ...\n",
      " $ emp_length.9_years                 : num  0 0 0 0 0 0 0 1 0 0 ...\n",
      " $ home_ownership.MORTGAGE            : num  0 0 0 0 0 0 0 0 0 0 ...\n",
      " $ home_ownership.NONE                : num  0 0 0 0 0 0 0 0 0 0 ...\n",
      " $ home_ownership.OTHER               : num  0 0 0 0 0 0 0 0 0 0 ...\n",
      " $ home_ownership.OWN                 : num  0 0 0 0 0 0 0 0 1 0 ...\n",
      " $ home_ownership.RENT                : num  1 1 1 1 1 1 1 1 0 1 ...\n",
      " $ verification_status.Not_Verified   : num  0 0 1 0 0 0 1 0 0 0 ...\n",
      " $ verification_status.Source_Verified: num  0 1 0 1 1 1 0 1 1 0 ...\n",
      " $ verification_status.Verified       : num  1 0 0 0 0 0 0 0 0 1 ...\n",
      " $ loan_status.Charged_Off            : num  0 1 0 0 0 0 0 0 1 1 ...\n",
      " $ loan_status.Fully_Paid             : num  1 0 1 1 1 1 1 1 0 0 ...\n",
      " $ purpose.car                        : num  0 1 0 0 0 0 0 1 0 0 ...\n",
      " $ purpose.credit_card                : num  1 0 0 0 0 0 0 0 0 0 ...\n",
      " $ purpose.debt_consolidation         : num  0 0 0 0 0 0 1 0 0 0 ...\n",
      " $ purpose.educational                : num  0 0 0 0 0 0 0 0 0 0 ...\n",
      " $ purpose.home_improvement           : num  0 0 0 0 0 0 0 0 0 0 ...\n",
      " $ purpose.house                      : num  0 0 0 0 0 0 0 0 0 0 ...\n",
      " $ purpose.major_purchase             : num  0 0 0 0 0 0 0 0 0 0 ...\n",
      " $ purpose.medical                    : num  0 0 0 0 0 0 0 0 0 0 ...\n",
      " $ purpose.moving                     : num  0 0 0 0 0 0 0 0 0 0 ...\n",
      " $ purpose.other                      : num  0 0 0 1 1 0 0 0 0 1 ...\n",
      " $ purpose.renewable_energy           : num  0 0 0 0 0 0 0 0 0 0 ...\n",
      " $ purpose.small_business             : num  0 0 1 0 0 0 0 0 1 0 ...\n",
      " $ purpose.vacation                   : num  0 0 0 0 0 0 0 0 0 0 ...\n",
      " $ purpose.wedding                    : num  0 0 0 0 0 1 0 0 0 0 ...\n",
      " $ addr_state.AK                      : num  0 0 0 0 0 0 0 0 0 0 ...\n",
      " $ addr_state.AL                      : num  0 0 0 0 0 0 0 0 0 0 ...\n",
      " $ addr_state.AR                      : num  0 0 0 0 0 0 0 0 0 0 ...\n",
      " $ addr_state.AZ                      : num  1 0 0 0 0 1 0 0 0 0 ...\n",
      " $ addr_state.CA                      : num  0 0 0 1 0 0 0 1 1 0 ...\n",
      " $ addr_state.CO                      : num  0 0 0 0 0 0 0 0 0 0 ...\n",
      " $ addr_state.CT                      : num  0 0 0 0 0 0 0 0 0 0 ...\n",
      " $ addr_state.DC                      : num  0 0 0 0 0 0 0 0 0 0 ...\n",
      " $ addr_state.DE                      : num  0 0 0 0 0 0 0 0 0 0 ...\n",
      " $ addr_state.FL                      : num  0 0 0 0 0 0 0 0 0 0 ...\n",
      " $ addr_state.GA                      : num  0 1 0 0 0 0 0 0 0 0 ...\n",
      " $ addr_state.HI                      : num  0 0 0 0 0 0 0 0 0 0 ...\n",
      " $ addr_state.IA                      : num  0 0 0 0 0 0 0 0 0 0 ...\n",
      " $ addr_state.ID                      : num  0 0 0 0 0 0 0 0 0 0 ...\n",
      " $ addr_state.IL                      : num  0 0 1 0 0 0 0 0 0 0 ...\n",
      " $ addr_state.IN                      : num  0 0 0 0 0 0 0 0 0 0 ...\n",
      " $ addr_state.KS                      : num  0 0 0 0 0 0 0 0 0 0 ...\n",
      " $ addr_state.KY                      : num  0 0 0 0 0 0 0 0 0 0 ...\n",
      " $ addr_state.LA                      : num  0 0 0 0 0 0 0 0 0 0 ...\n",
      " $ addr_state.MA                      : num  0 0 0 0 0 0 0 0 0 0 ...\n",
      " $ addr_state.MD                      : num  0 0 0 0 0 0 0 0 0 0 ...\n",
      " $ addr_state.ME                      : num  0 0 0 0 0 0 0 0 0 0 ...\n",
      " $ addr_state.MI                      : num  0 0 0 0 0 0 0 0 0 0 ...\n",
      " $ addr_state.MN                      : num  0 0 0 0 0 0 0 0 0 0 ...\n",
      " $ addr_state.MO                      : num  0 0 0 0 0 0 0 0 0 0 ...\n",
      " $ addr_state.MS                      : num  0 0 0 0 0 0 0 0 0 0 ...\n",
      " $ addr_state.MT                      : num  0 0 0 0 0 0 0 0 0 0 ...\n",
      " $ addr_state.NC                      : num  0 0 0 0 0 0 1 0 0 0 ...\n",
      " $ addr_state.NE                      : num  0 0 0 0 0 0 0 0 0 0 ...\n",
      " $ addr_state.NH                      : num  0 0 0 0 0 0 0 0 0 0 ...\n",
      " $ addr_state.NJ                      : num  0 0 0 0 0 0 0 0 0 0 ...\n",
      " $ addr_state.NM                      : num  0 0 0 0 0 0 0 0 0 0 ...\n",
      " $ addr_state.NV                      : num  0 0 0 0 0 0 0 0 0 0 ...\n",
      " $ addr_state.NY                      : num  0 0 0 0 0 0 0 0 0 0 ...\n",
      " $ addr_state.OH                      : num  0 0 0 0 0 0 0 0 0 0 ...\n",
      " $ addr_state.OK                      : num  0 0 0 0 0 0 0 0 0 0 ...\n",
      " $ addr_state.OR                      : num  0 0 0 0 1 0 0 0 0 0 ...\n",
      " $ addr_state.PA                      : num  0 0 0 0 0 0 0 0 0 0 ...\n",
      " $ addr_state.RI                      : num  0 0 0 0 0 0 0 0 0 0 ...\n",
      " $ addr_state.SC                      : num  0 0 0 0 0 0 0 0 0 0 ...\n",
      " $ addr_state.SD                      : num  0 0 0 0 0 0 0 0 0 0 ...\n",
      " $ addr_state.TN                      : num  0 0 0 0 0 0 0 0 0 0 ...\n",
      " $ addr_state.TX                      : num  0 0 0 0 0 0 0 0 0 1 ...\n",
      " $ addr_state.UT                      : num  0 0 0 0 0 0 0 0 0 0 ...\n",
      " $ addr_state.VA                      : num  0 0 0 0 0 0 0 0 0 0 ...\n",
      " $ addr_state.VT                      : num  0 0 0 0 0 0 0 0 0 0 ...\n",
      " $ addr_state.WA                      : num  0 0 0 0 0 0 0 0 0 0 ...\n",
      " $ addr_state.WI                      : num  0 0 0 0 0 0 0 0 0 0 ...\n",
      " $ addr_state.WV                      : num  0 0 0 0 0 0 0 0 0 0 ...\n",
      " $ addr_state.WY                      : num  0 0 0 0 0 0 0 0 0 0 ...\n"
     ]
    }
   ],
   "source": [
    "transformed_loans <- loans[!factor_cols]\n",
    "transformed_loans <- cbind(transformed_loans, factor_dummy_cols)\n",
    "str(transformed_loans)"
   ]
  },
  {
   "cell_type": "markdown",
   "metadata": {},
   "source": [
    "#### Subset Selection"
   ]
  },
  {
   "cell_type": "code",
   "execution_count": 26,
   "metadata": {},
   "outputs": [
    {
     "name": "stderr",
     "output_type": "stream",
     "text": [
      "Warning message in leaps.setup(x, y, wt = wt, nbest = nbest, nvmax = nvmax, force.in = force.in, :\n",
      "\"6  linear dependencies found\""
     ]
    },
    {
     "name": "stdout",
     "output_type": "stream",
     "text": [
      "Reordering variables and trying again:\n"
     ]
    },
    {
     "name": "stderr",
     "output_type": "stream",
     "text": [
      "Warning message in rval$lopt[] <- rval$vorder[rval$lopt]:\n",
      "\"number of items to replace is not a multiple of replacement length\""
     ]
    }
   ],
   "source": [
    "library(leaps)\n",
    "transformed_loans <- subset(transformed_loans, select=-c(loan_status.Charged_Off))\n",
    "reg_fwd <- regsubsets(loan_status.Fully_Paid ~ . ,data=transformed_loans, method='forward', nvmax=99 )\n",
    "reg_summary <- summary(reg_fwd)"
   ]
  },
  {
   "cell_type": "markdown",
   "metadata": {},
   "source": [
    "#### Using the BIC measure"
   ]
  },
  {
   "cell_type": "code",
   "execution_count": 27,
   "metadata": {},
   "outputs": [
    {
     "data": {
      "image/png": "[encoded data removed]",
      "text/plain": [
       "plot without title"
      ]
     },
     "metadata": {},
     "output_type": "display_data"
    }
   ],
   "source": [
    "plot(reg_summary$bic,xlab=\"Number of Variables\")"
   ]
  },
  {
   "cell_type": "code",
   "execution_count": 28,
   "metadata": {},
   "outputs": [
    {
     "data": {
      "text/html": [
       "12"
      ],
      "text/latex": [
       "12"
      ],
      "text/markdown": [
       "12"
      ],
      "text/plain": [
       "[1] 12"
      ]
     },
     "metadata": {},
     "output_type": "display_data"
    }
   ],
   "source": [
    "which.min(reg_summary$bic)"
   ]
  },
  {
   "cell_type": "code",
   "execution_count": 29,
   "metadata": {},
   "outputs": [
    {
     "data": {
      "text/html": [
       "<dl class=dl-horizontal>\n",
       "\t<dt>(Intercept)</dt>\n",
       "\t\t<dd>1.07618547844197</dd>\n",
       "\t<dt>int_rate</dt>\n",
       "\t\t<dd>-0.0174876900886922</dd>\n",
       "\t<dt>annual_inc</dt>\n",
       "\t\t<dd>2.67330696250192e-07</dd>\n",
       "\t<dt>inq_last_6mths</dt>\n",
       "\t\t<dd>-0.015818526900085</dd>\n",
       "\t<dt>pub_rec</dt>\n",
       "\t\t<dd>-0.0437018880327502</dd>\n",
       "\t<dt>revol_util</dt>\n",
       "\t\t<dd>-0.000142775686149447</dd>\n",
       "\t<dt>emp_length.0_year</dt>\n",
       "\t\t<dd>0.000559366560413082</dd>\n",
       "\t<dt>purpose.house</dt>\n",
       "\t\t<dd>-0.00625758439597883</dd>\n",
       "\t<dt>addr_state.AK</dt>\n",
       "\t\t<dd>-0.0518047492954973</dd>\n",
       "\t<dt>addr_state.AR</dt>\n",
       "\t\t<dd>0.0310894917499619</dd>\n",
       "\t<dt>addr_state.FL</dt>\n",
       "\t\t<dd>-0.0371275505351549</dd>\n",
       "\t<dt>addr_state.IL</dt>\n",
       "\t\t<dd>0.0139830487859902</dd>\n",
       "\t<dt>addr_state.PA</dt>\n",
       "\t\t<dd>0.02161864264615</dd>\n",
       "</dl>\n"
      ],
      "text/latex": [
       "\\begin{description*}\n",
       "\\item[(Intercept)] 1.07618547844197\n",
       "\\item[int\\textbackslash{}\\_rate] -0.0174876900886922\n",
       "\\item[annual\\textbackslash{}\\_inc] 2.67330696250192e-07\n",
       "\\item[inq\\textbackslash{}\\_last\\textbackslash{}\\_6mths] -0.015818526900085\n",
       "\\item[pub\\textbackslash{}\\_rec] -0.0437018880327502\n",
       "\\item[revol\\textbackslash{}\\_util] -0.000142775686149447\n",
       "\\item[emp\\textbackslash{}\\_length.0\\textbackslash{}\\_year] 0.000559366560413082\n",
       "\\item[purpose.house] -0.00625758439597883\n",
       "\\item[addr\\textbackslash{}\\_state.AK] -0.0518047492954973\n",
       "\\item[addr\\textbackslash{}\\_state.AR] 0.0310894917499619\n",
       "\\item[addr\\textbackslash{}\\_state.FL] -0.0371275505351549\n",
       "\\item[addr\\textbackslash{}\\_state.IL] 0.0139830487859902\n",
       "\\item[addr\\textbackslash{}\\_state.PA] 0.02161864264615\n",
       "\\end{description*}\n"
      ],
      "text/markdown": [
       "(Intercept)\n",
       ":   1.07618547844197int_rate\n",
       ":   -0.0174876900886922annual_inc\n",
       ":   2.67330696250192e-07inq_last_6mths\n",
       ":   -0.015818526900085pub_rec\n",
       ":   -0.0437018880327502revol_util\n",
       ":   -0.000142775686149447emp_length.0_year\n",
       ":   0.000559366560413082purpose.house\n",
       ":   -0.00625758439597883addr_state.AK\n",
       ":   -0.0518047492954973addr_state.AR\n",
       ":   0.0310894917499619addr_state.FL\n",
       ":   -0.0371275505351549addr_state.IL\n",
       ":   0.0139830487859902addr_state.PA\n",
       ":   0.02161864264615\n",
       "\n"
      ],
      "text/plain": [
       "      (Intercept)          int_rate        annual_inc    inq_last_6mths \n",
       "     1.076185e+00     -1.748769e-02      2.673307e-07     -1.581853e-02 \n",
       "          pub_rec        revol_util emp_length.0_year     purpose.house \n",
       "    -4.370189e-02     -1.427757e-04      5.593666e-04     -6.257584e-03 \n",
       "    addr_state.AK     addr_state.AR     addr_state.FL     addr_state.IL \n",
       "    -5.180475e-02      3.108949e-02     -3.712755e-02      1.398305e-02 \n",
       "    addr_state.PA \n",
       "     2.161864e-02 "
      ]
     },
     "metadata": {},
     "output_type": "display_data"
    }
   ],
   "source": [
    "coef(reg_fwd, 12)"
   ]
  },
  {
   "cell_type": "markdown",
   "metadata": {},
   "source": [
    "#### Using the BIC measure, the linear relationship looks like - \n",
    "loan_status.Fully_Paid ~ int_rate + annual_inc + inq_last_6mths + pub_rec + revol_util + emp_length.0_year + purpose.house + addr_state.AK + addr_state.AR + addr_state.FL + addr_state.IL + addr_state.PA"
   ]
  },
  {
   "cell_type": "code",
   "execution_count": 30,
   "metadata": {},
   "outputs": [
    {
     "name": "stderr",
     "output_type": "stream",
     "text": [
      "Warning message:\n",
      "\"glm.fit: fitted probabilities numerically 0 or 1 occurred\""
     ]
    }
   ],
   "source": [
    "set.seed(123)\n",
    "ind <- sample(2, nrow(transformed_loans), replace=TRUE, prob=c(0.7,0.3))\n",
    "train <- transformed_loans[ind==1,]\n",
    "test <- transformed_loans[ind==2,]\n",
    "logistic_mod <- glm(loan_status.Fully_Paid ~ int_rate + annual_inc + inq_last_6mths + pub_rec + revol_util + emp_length.0_year + purpose.house + addr_state.AK + addr_state.AR + addr_state.FL + addr_state.IL + addr_state.PA , data=train, family=\"binomial\")\n",
    "predicted_vals <- ifelse(predict(logistic_mod, test, type=\"response\") > 0.5, 1 , 0)"
   ]
  },
  {
   "cell_type": "code",
   "execution_count": 31,
   "metadata": {},
   "outputs": [
    {
     "name": "stderr",
     "output_type": "stream",
     "text": [
      "Warning message:\n",
      "\"package 'caret' was built under R version 3.4.3\"Loading required package: lattice\n",
      "Loading required package: ggplot2\n"
     ]
    },
    {
     "data": {
      "text/plain": [
       "Confusion Matrix and Statistics\n",
       "\n",
       "          Reference\n",
       "Prediction    0    1\n",
       "         0    4    6\n",
       "         1 1633 9764\n",
       "                                          \n",
       "               Accuracy : 0.8563          \n",
       "                 95% CI : (0.8497, 0.8627)\n",
       "    No Information Rate : 0.8565          \n",
       "    P-Value [Acc > NIR] : 0.5279          \n",
       "                                          \n",
       "                  Kappa : 0.0031          \n",
       " Mcnemar's Test P-Value : <2e-16          \n",
       "                                          \n",
       "            Sensitivity : 0.999386        \n",
       "            Specificity : 0.002443        \n",
       "         Pos Pred Value : 0.856717        \n",
       "         Neg Pred Value : 0.400000        \n",
       "             Prevalence : 0.856492        \n",
       "         Detection Rate : 0.855966        \n",
       "   Detection Prevalence : 0.999123        \n",
       "      Balanced Accuracy : 0.500915        \n",
       "                                          \n",
       "       'Positive' Class : 1               \n",
       "                                          "
      ]
     },
     "metadata": {},
     "output_type": "display_data"
    }
   ],
   "source": [
    "library(caret)\n",
    "confusionMatrix(predicted_vals, test$loan_status, positive='1')"
   ]
  },
  {
   "cell_type": "markdown",
   "metadata": {},
   "source": [
    "#### Insight:\n",
    "As the profile of a conservative investor, we are solely looking to reduce losses. <br>\n",
    "Therefore, the metric of interest here is specificity (true negative rate). <br>\n",
    "Although the accuracy rate seems high (85.63%), the specificity is very bad (0.2%). <br>\n",
    "The accuracy is almost equal to the no information rate. This looks like an imbalanced class problem. <br> "
   ]
  },
  {
   "cell_type": "code",
   "execution_count": 32,
   "metadata": {},
   "outputs": [
    {
     "data": {
      "text/plain": [
       "\n",
       "    0     1 \n",
       " 5425 33236 "
      ]
     },
     "metadata": {},
     "output_type": "display_data"
    }
   ],
   "source": [
    "table(transformed_loans$loan_status.Fully_Paid)"
   ]
  },
  {
   "cell_type": "markdown",
   "metadata": {},
   "source": [
    "#### Dealing with class imbalance:\n",
    "\n",
    "Using the undersampling strategy seems like a better idea due to the sample number of 'Charged Off' outcomes."
   ]
  },
  {
   "cell_type": "code",
   "execution_count": 33,
   "metadata": {},
   "outputs": [
    {
     "name": "stderr",
     "output_type": "stream",
     "text": [
      "Warning message:\n",
      "\"package 'ROSE' was built under R version 3.4.3\"Loaded ROSE 0.0-3\n",
      "\n"
     ]
    }
   ],
   "source": [
    "library(ROSE)"
   ]
  },
  {
   "cell_type": "code",
   "execution_count": 34,
   "metadata": {},
   "outputs": [
    {
     "data": {
      "text/plain": [
       "\n",
       "   0    1 \n",
       "5425 5425 "
      ]
     },
     "metadata": {},
     "output_type": "display_data"
    }
   ],
   "source": [
    "loans_undersampled <- ovun.sample(loan_status.Fully_Paid ~ int_rate + annual_inc + inq_last_6mths + pub_rec + revol_util + emp_length.0_year + purpose.house + addr_state.AK + addr_state.AR + addr_state.FL + addr_state.IL + addr_state.PA, data=transformed_loans,method='under', N=5425*2)$data\n",
    "table(loans_undersampled$loan_status.Fully_Paid)"
   ]
  },
  {
   "cell_type": "code",
   "execution_count": 35,
   "metadata": {},
   "outputs": [
    {
     "name": "stderr",
     "output_type": "stream",
     "text": [
      "Warning message:\n",
      "\"glm.fit: fitted probabilities numerically 0 or 1 occurred\""
     ]
    },
    {
     "data": {
      "text/plain": [
       "Confusion Matrix and Statistics\n",
       "\n",
       "          Reference\n",
       "Prediction   0   1\n",
       "         0 989 624\n",
       "         1 594 990\n",
       "                                          \n",
       "               Accuracy : 0.619           \n",
       "                 95% CI : (0.6019, 0.6359)\n",
       "    No Information Rate : 0.5048          \n",
       "    P-Value [Acc > NIR] : <2e-16          \n",
       "                                          \n",
       "                  Kappa : 0.2381          \n",
       " Mcnemar's Test P-Value : 0.406           \n",
       "                                          \n",
       "            Sensitivity : 0.6134          \n",
       "            Specificity : 0.6248          \n",
       "         Pos Pred Value : 0.6250          \n",
       "         Neg Pred Value : 0.6131          \n",
       "             Prevalence : 0.5048          \n",
       "         Detection Rate : 0.3097          \n",
       "   Detection Prevalence : 0.4955          \n",
       "      Balanced Accuracy : 0.6191          \n",
       "                                          \n",
       "       'Positive' Class : 1               \n",
       "                                          "
      ]
     },
     "metadata": {},
     "output_type": "display_data"
    }
   ],
   "source": [
    "set.seed(123)\n",
    "ind <- sample(2, nrow(loans_undersampled), replace=TRUE, prob=c(0.7,0.3))\n",
    "train <- loans_undersampled[ind==1,]\n",
    "test <- loans_undersampled[ind==2,]\n",
    "logistic_mod <- glm(loan_status.Fully_Paid ~ int_rate + annual_inc + inq_last_6mths + pub_rec + revol_util + emp_length.0_year + purpose.house + addr_state.AK + addr_state.AR + addr_state.FL + addr_state.IL + addr_state.PA , data=train, family=\"binomial\")\n",
    "predicted_vals <- ifelse(predict(logistic_mod, test, type=\"response\") > 0.5, 1 , 0)\n",
    "confusionMatrix(predicted_vals, test$loan_status.Fully_Paid, positive='1')"
   ]
  },
  {
   "cell_type": "markdown",
   "metadata": {},
   "source": [
    "#### Insight:\n",
    "Although the overall accuracy rate has decreased to 61.9% (higher than no information rate), the specificity has dramatically increased to 62.48%. \n",
    "Therefore, there seems to be an improvement over the previous model. "
   ]
  },
  {
   "cell_type": "markdown",
   "metadata": {},
   "source": [
    "#### Model 2: Decision Tree "
   ]
  },
  {
   "cell_type": "markdown",
   "metadata": {},
   "source": [
    "Using undersampled data:"
   ]
  },
  {
   "cell_type": "code",
   "execution_count": 36,
   "metadata": {},
   "outputs": [
    {
     "name": "stdout",
     "output_type": "stream",
     "text": [
      " Factor w/ 2 levels \"0\",\"1\": 2 2 2 2 2 2 2 2 2 2 ...\n"
     ]
    }
   ],
   "source": [
    "loans_undersampled$loan_status.Fully_Paid <- as.factor(loans_undersampled$loan_status.Fully_Paid)\n",
    "str(loans_undersampled$loan_status)"
   ]
  },
  {
   "cell_type": "code",
   "execution_count": 37,
   "metadata": {
    "collapsed": true
   },
   "outputs": [],
   "source": [
    "set.seed(123)\n",
    "ind <- sample(2, nrow(loans_undersampled), replace=TRUE, prob=c(0.7,0.3))\n",
    "train <- loans_undersampled[ind==1,]\n",
    "test <- loans_undersampled[ind==2,]"
   ]
  },
  {
   "cell_type": "code",
   "execution_count": 38,
   "metadata": {},
   "outputs": [
    {
     "data": {
      "text/plain": [
       "\n",
       "Classification tree:\n",
       "tree(formula = loan_status.Fully_Paid ~ ., data = train)\n",
       "Variables actually used in tree construction:\n",
       "[1] \"int_rate\"\n",
       "Number of terminal nodes:  3 \n",
       "Residual mean deviance:  1.315 = 10060 / 7650 \n",
       "Misclassification error rate: 0.4052 = 3101 / 7653 "
      ]
     },
     "metadata": {},
     "output_type": "display_data"
    }
   ],
   "source": [
    "library(tree)\n",
    "tree_model <- tree(loan_status.Fully_Paid ~ ., data=train)\n",
    "summary(tree_model)"
   ]
  },
  {
   "cell_type": "code",
   "execution_count": 39,
   "metadata": {},
   "outputs": [
    {
     "data": {
      "image/png": "[encoded data removed]",
      "text/plain": [
       "plot without title"
      ]
     },
     "metadata": {},
     "output_type": "display_data"
    }
   ],
   "source": [
    "plot(tree_model)\n",
    "text(tree_model, pretty=0)     "
   ]
  },
  {
   "cell_type": "code",
   "execution_count": 40,
   "metadata": {},
   "outputs": [
    {
     "data": {
      "text/html": [
       "<ol class=list-inline>\n",
       "\t<li>0</li>\n",
       "\t<li>1</li>\n",
       "\t<li>0</li>\n",
       "\t<li>1</li>\n",
       "\t<li>1</li>\n",
       "\t<li>0</li>\n",
       "</ol>\n"
      ],
      "text/latex": [
       "\\begin{enumerate*}\n",
       "\\item 0\n",
       "\\item 1\n",
       "\\item 0\n",
       "\\item 1\n",
       "\\item 1\n",
       "\\item 0\n",
       "\\end{enumerate*}\n"
      ],
      "text/markdown": [
       "1. 0\n",
       "2. 1\n",
       "3. 0\n",
       "4. 1\n",
       "5. 1\n",
       "6. 0\n",
       "\n",
       "\n"
      ],
      "text/plain": [
       "[1] 0 1 0 1 1 0\n",
       "Levels: 0 1"
      ]
     },
     "metadata": {},
     "output_type": "display_data"
    }
   ],
   "source": [
    "pred_labels = predict(tree_model, test, type=\"class\")\n",
    "head(pred_labels)"
   ]
  },
  {
   "cell_type": "code",
   "execution_count": 41,
   "metadata": {},
   "outputs": [
    {
     "data": {
      "text/plain": [
       "Confusion Matrix and Statistics\n",
       "\n",
       "          Reference\n",
       "Prediction    0    1\n",
       "         0 1390 1130\n",
       "         1  193  484\n",
       "                                          \n",
       "               Accuracy : 0.5862          \n",
       "                 95% CI : (0.5689, 0.6033)\n",
       "    No Information Rate : 0.5048          \n",
       "    P-Value [Acc > NIR] : < 2.2e-16       \n",
       "                                          \n",
       "                  Kappa : 0.1769          \n",
       " Mcnemar's Test P-Value : < 2.2e-16       \n",
       "                                          \n",
       "            Sensitivity : 0.2999          \n",
       "            Specificity : 0.8781          \n",
       "         Pos Pred Value : 0.7149          \n",
       "         Neg Pred Value : 0.5516          \n",
       "             Prevalence : 0.5048          \n",
       "         Detection Rate : 0.1514          \n",
       "   Detection Prevalence : 0.2118          \n",
       "      Balanced Accuracy : 0.5890          \n",
       "                                          \n",
       "       'Positive' Class : 1               \n",
       "                                          "
      ]
     },
     "metadata": {},
     "output_type": "display_data"
    }
   ],
   "source": [
    "confusionMatrix(pred_labels, test$loan_status, positive='1')"
   ]
  },
  {
   "cell_type": "markdown",
   "metadata": {},
   "source": [
    "#### Insight:\n",
    "\n",
    "The accuracy rate (58.62%) is a little better than the no information rate, but lower than the regression model. Our metric of interest (specificity) is extremely high at 87.81%. This seems like a better model than the logistic regression models.   "
   ]
  },
  {
   "cell_type": "markdown",
   "metadata": {},
   "source": [
    "#### Model 3: k Nearest Neighbors"
   ]
  },
  {
   "cell_type": "code",
   "execution_count": 42,
   "metadata": {
    "collapsed": true
   },
   "outputs": [],
   "source": [
    "loans <- filtered_loan_stats"
   ]
  },
  {
   "cell_type": "code",
   "execution_count": 43,
   "metadata": {},
   "outputs": [
    {
     "data": {
      "text/plain": [
       "\n",
       "Charged Off  Fully Paid \n",
       "       5425       33236 "
      ]
     },
     "metadata": {},
     "output_type": "display_data"
    }
   ],
   "source": [
    "table(loans$loan_status)"
   ]
  },
  {
   "cell_type": "markdown",
   "metadata": {},
   "source": [
    "#### Choosing k as the square root of minimum class frequency, normalizing and hot encoding the data:"
   ]
  },
  {
   "cell_type": "code",
   "execution_count": 44,
   "metadata": {},
   "outputs": [
    {
     "data": {
      "text/html": [
       "73.6545993132812"
      ],
      "text/latex": [
       "73.6545993132812"
      ],
      "text/markdown": [
       "73.6545993132812"
      ],
      "text/plain": [
       "[1] 73.6546"
      ]
     },
     "metadata": {},
     "output_type": "display_data"
    }
   ],
   "source": [
    "k = 5425 ** (1/2)\n",
    "k"
   ]
  },
  {
   "cell_type": "code",
   "execution_count": 45,
   "metadata": {
    "collapsed": true
   },
   "outputs": [],
   "source": [
    "data_norm <- function(x){     \n",
    "    normalized_val = (x - min(x)) / (max(x) - min(x))\n",
    "    return(normalized_val)\n",
    "}"
   ]
  },
  {
   "cell_type": "code",
   "execution_count": 46,
   "metadata": {
    "collapsed": true
   },
   "outputs": [],
   "source": [
    "factor_cols <- sapply(loans, is.factor)\n",
    "numeric_cols <- !factor_cols"
   ]
  },
  {
   "cell_type": "code",
   "execution_count": 47,
   "metadata": {},
   "outputs": [
    {
     "data": {
      "text/plain": [
       "   loan_amnt              term          int_rate       installment    \n",
       " Min.   :0.0000    36 months:28243   Min.   :0.0000   Min.   :0.0000  \n",
       " 1st Qu.:0.1457    60 months:10418   1st Qu.:0.2034   1st Qu.:0.1185  \n",
       " Median :0.2754                      Median :0.3359   Median :0.2075  \n",
       " Mean   :0.3134                      Mean   :0.3461   Mean   :0.2415  \n",
       " 3rd Qu.:0.4203                      3rd Qu.:0.4784   3rd Qu.:0.3252  \n",
       " Max.   :1.0000                      Max.   :1.0000   Max.   :1.0000  \n",
       "                                                                      \n",
       "     emp_length    home_ownership    annual_inc            verification_status\n",
       " 10+ years:8898   MORTGAGE:17246   Min.   :0.000000   Not Verified   :16474   \n",
       " < 1 year :4578   NONE    :    3   1st Qu.:0.006255   Source Verified: 9808   \n",
       " 2 years  :4389   OTHER   :   96   Median :0.009340   Verified       :12379   \n",
       " 3 years  :4094   OWN     : 2840   Mean   :0.010948                           \n",
       " 4 years  :3437   RENT    :18476   3rd Qu.:0.013209                           \n",
       " 5 years  :3282                    Max.   :1.000000                           \n",
       " (Other)  :9983                                                               \n",
       "      loan_status                  purpose        addr_state   \n",
       " Charged Off: 5425   debt_consolidation:18265   CA     : 6910  \n",
       " Fully Paid :33236   credit_card       : 5005   NY     : 3712  \n",
       "                     other             : 3827   FL     : 2781  \n",
       "                     home_improvement  : 2884   TX     : 2675  \n",
       "                     major_purchase    : 2110   NJ     : 1825  \n",
       "                     small_business    : 1785   IL     : 1487  \n",
       "                     (Other)           : 4785   (Other):19271  \n",
       "      dti          delinq_2yrs      inq_last_6mths      open_acc      \n",
       " Min.   :0.0000   Min.   :0.00000   Min.   :0.0000   Min.   :0.00000  \n",
       " 1st Qu.:0.2738   1st Qu.:0.00000   1st Qu.:0.0000   1st Qu.:0.09524  \n",
       " Median :0.4475   Median :0.00000   Median :0.1250   Median :0.16667  \n",
       " Mean   :0.4445   Mean   :0.01335   Mean   :0.1087   Mean   :0.17436  \n",
       " 3rd Qu.:0.6202   3rd Qu.:0.00000   3rd Qu.:0.1250   3rd Qu.:0.23810  \n",
       " Max.   :1.0000   Max.   :1.00000   Max.   :1.0000   Max.   :1.00000  \n",
       "                                                                      \n",
       "    pub_rec          revol_bal         revol_util       total_acc     \n",
       " Min.   :0.00000   Min.   :0.00000   Min.   :0.0000   Min.   :0.0000  \n",
       " 1st Qu.:0.00000   1st Qu.:0.02516   1st Qu.:0.2573   1st Qu.:0.1364  \n",
       " Median :0.00000   Median :0.05992   Median :0.4955   Median :0.2045  \n",
       " Mean   :0.01337   Mean   :0.09014   Mean   :0.4908   Mean   :0.2288  \n",
       " 3rd Qu.:0.00000   3rd Qu.:0.11482   3rd Qu.:0.7257   3rd Qu.:0.3068  \n",
       " Max.   :1.00000   Max.   :1.00000   Max.   :1.0000   Max.   :1.0000  \n",
       "                                                                      "
      ]
     },
     "metadata": {},
     "output_type": "display_data"
    }
   ],
   "source": [
    "loans[numeric_cols] <- sapply(loans[numeric_cols], data_norm)\n",
    "summary(loans)"
   ]
  },
  {
   "cell_type": "code",
   "execution_count": 48,
   "metadata": {},
   "outputs": [
    {
     "name": "stdout",
     "output_type": "stream",
     "text": [
      " Factor w/ 2 levels \"CO\",\"FP\": 2 1 2 2 2 2 2 2 1 1 ...\n"
     ]
    }
   ],
   "source": [
    "loans$loan_status <- sapply(loans$loan_status, function(x) ifelse(x == 'Fully Paid', 'FP', 'CO'))\n",
    "loans$loan_status <- as.factor(loans$loan_status)\n",
    "str(loans$loan_status)"
   ]
  },
  {
   "cell_type": "code",
   "execution_count": 49,
   "metadata": {},
   "outputs": [
    {
     "name": "stdout",
     "output_type": "stream",
     "text": [
      "'data.frame':\t38661 obs. of  88 variables:\n",
      " $ term. 36 months                    : num  1 0 1 1 0 1 0 1 0 0 ...\n",
      " $ term. 60 months                    : num  0 1 0 0 1 0 1 0 1 1 ...\n",
      " $ emp_length.< 1 year                : num  0 1 0 0 0 0 0 0 0 1 ...\n",
      " $ emp_length.1 year                  : num  0 0 0 0 1 0 0 0 0 0 ...\n",
      " $ emp_length.10+ years               : num  1 0 1 1 0 0 0 0 0 0 ...\n",
      " $ emp_length.2 years                 : num  0 0 0 0 0 0 0 0 0 0 ...\n",
      " $ emp_length.3 years                 : num  0 0 0 0 0 1 0 0 0 0 ...\n",
      " $ emp_length.4 years                 : num  0 0 0 0 0 0 0 0 1 0 ...\n",
      " $ emp_length.5 years                 : num  0 0 0 0 0 0 0 0 0 0 ...\n",
      " $ emp_length.6 years                 : num  0 0 0 0 0 0 0 0 0 0 ...\n",
      " $ emp_length.7 years                 : num  0 0 0 0 0 0 0 0 0 0 ...\n",
      " $ emp_length.8 years                 : num  0 0 0 0 0 0 1 0 0 0 ...\n",
      " $ emp_length.9 years                 : num  0 0 0 0 0 0 0 1 0 0 ...\n",
      " $ emp_length.n/a                     : num  0 0 0 0 0 0 0 0 0 0 ...\n",
      " $ home_ownership.MORTGAGE            : num  0 0 0 0 0 0 0 0 0 0 ...\n",
      " $ home_ownership.NONE                : num  0 0 0 0 0 0 0 0 0 0 ...\n",
      " $ home_ownership.OTHER               : num  0 0 0 0 0 0 0 0 0 0 ...\n",
      " $ home_ownership.OWN                 : num  0 0 0 0 0 0 0 0 1 0 ...\n",
      " $ home_ownership.RENT                : num  1 1 1 1 1 1 1 1 0 1 ...\n",
      " $ verification_status.Not Verified   : num  0 0 1 0 0 0 1 0 0 0 ...\n",
      " $ verification_status.Source Verified: num  0 1 0 1 1 1 0 1 1 0 ...\n",
      " $ verification_status.Verified       : num  1 0 0 0 0 0 0 0 0 1 ...\n",
      " $ loan_status.CO                     : num  0 1 0 0 0 0 0 0 1 1 ...\n",
      " $ loan_status.FP                     : num  1 0 1 1 1 1 1 1 0 0 ...\n",
      " $ purpose.car                        : num  0 1 0 0 0 0 0 1 0 0 ...\n",
      " $ purpose.credit_card                : num  1 0 0 0 0 0 0 0 0 0 ...\n",
      " $ purpose.debt_consolidation         : num  0 0 0 0 0 0 1 0 0 0 ...\n",
      " $ purpose.educational                : num  0 0 0 0 0 0 0 0 0 0 ...\n",
      " $ purpose.home_improvement           : num  0 0 0 0 0 0 0 0 0 0 ...\n",
      " $ purpose.house                      : num  0 0 0 0 0 0 0 0 0 0 ...\n",
      " $ purpose.major_purchase             : num  0 0 0 0 0 0 0 0 0 0 ...\n",
      " $ purpose.medical                    : num  0 0 0 0 0 0 0 0 0 0 ...\n",
      " $ purpose.moving                     : num  0 0 0 0 0 0 0 0 0 0 ...\n",
      " $ purpose.other                      : num  0 0 0 1 1 0 0 0 0 1 ...\n",
      " $ purpose.renewable_energy           : num  0 0 0 0 0 0 0 0 0 0 ...\n",
      " $ purpose.small_business             : num  0 0 1 0 0 0 0 0 1 0 ...\n",
      " $ purpose.vacation                   : num  0 0 0 0 0 0 0 0 0 0 ...\n",
      " $ purpose.wedding                    : num  0 0 0 0 0 1 0 0 0 0 ...\n",
      " $ addr_state.AK                      : num  0 0 0 0 0 0 0 0 0 0 ...\n",
      " $ addr_state.AL                      : num  0 0 0 0 0 0 0 0 0 0 ...\n",
      " $ addr_state.AR                      : num  0 0 0 0 0 0 0 0 0 0 ...\n",
      " $ addr_state.AZ                      : num  1 0 0 0 0 1 0 0 0 0 ...\n",
      " $ addr_state.CA                      : num  0 0 0 1 0 0 0 1 1 0 ...\n",
      " $ addr_state.CO                      : num  0 0 0 0 0 0 0 0 0 0 ...\n",
      " $ addr_state.CT                      : num  0 0 0 0 0 0 0 0 0 0 ...\n",
      " $ addr_state.DC                      : num  0 0 0 0 0 0 0 0 0 0 ...\n",
      " $ addr_state.DE                      : num  0 0 0 0 0 0 0 0 0 0 ...\n",
      " $ addr_state.FL                      : num  0 0 0 0 0 0 0 0 0 0 ...\n",
      " $ addr_state.GA                      : num  0 1 0 0 0 0 0 0 0 0 ...\n",
      " $ addr_state.HI                      : num  0 0 0 0 0 0 0 0 0 0 ...\n",
      " $ addr_state.IA                      : num  0 0 0 0 0 0 0 0 0 0 ...\n",
      " $ addr_state.ID                      : num  0 0 0 0 0 0 0 0 0 0 ...\n",
      " $ addr_state.IL                      : num  0 0 1 0 0 0 0 0 0 0 ...\n",
      " $ addr_state.IN                      : num  0 0 0 0 0 0 0 0 0 0 ...\n",
      " $ addr_state.KS                      : num  0 0 0 0 0 0 0 0 0 0 ...\n",
      " $ addr_state.KY                      : num  0 0 0 0 0 0 0 0 0 0 ...\n",
      " $ addr_state.LA                      : num  0 0 0 0 0 0 0 0 0 0 ...\n",
      " $ addr_state.MA                      : num  0 0 0 0 0 0 0 0 0 0 ...\n",
      " $ addr_state.MD                      : num  0 0 0 0 0 0 0 0 0 0 ...\n",
      " $ addr_state.ME                      : num  0 0 0 0 0 0 0 0 0 0 ...\n",
      " $ addr_state.MI                      : num  0 0 0 0 0 0 0 0 0 0 ...\n",
      " $ addr_state.MN                      : num  0 0 0 0 0 0 0 0 0 0 ...\n",
      " $ addr_state.MO                      : num  0 0 0 0 0 0 0 0 0 0 ...\n",
      " $ addr_state.MS                      : num  0 0 0 0 0 0 0 0 0 0 ...\n",
      " $ addr_state.MT                      : num  0 0 0 0 0 0 0 0 0 0 ...\n",
      " $ addr_state.NC                      : num  0 0 0 0 0 0 1 0 0 0 ...\n",
      " $ addr_state.NE                      : num  0 0 0 0 0 0 0 0 0 0 ...\n",
      " $ addr_state.NH                      : num  0 0 0 0 0 0 0 0 0 0 ...\n",
      " $ addr_state.NJ                      : num  0 0 0 0 0 0 0 0 0 0 ...\n",
      " $ addr_state.NM                      : num  0 0 0 0 0 0 0 0 0 0 ...\n",
      " $ addr_state.NV                      : num  0 0 0 0 0 0 0 0 0 0 ...\n",
      " $ addr_state.NY                      : num  0 0 0 0 0 0 0 0 0 0 ...\n",
      " $ addr_state.OH                      : num  0 0 0 0 0 0 0 0 0 0 ...\n",
      " $ addr_state.OK                      : num  0 0 0 0 0 0 0 0 0 0 ...\n",
      " $ addr_state.OR                      : num  0 0 0 0 1 0 0 0 0 0 ...\n",
      " $ addr_state.PA                      : num  0 0 0 0 0 0 0 0 0 0 ...\n",
      " $ addr_state.RI                      : num  0 0 0 0 0 0 0 0 0 0 ...\n",
      " $ addr_state.SC                      : num  0 0 0 0 0 0 0 0 0 0 ...\n",
      " $ addr_state.SD                      : num  0 0 0 0 0 0 0 0 0 0 ...\n",
      " $ addr_state.TN                      : num  0 0 0 0 0 0 0 0 0 0 ...\n",
      " $ addr_state.TX                      : num  0 0 0 0 0 0 0 0 0 1 ...\n",
      " $ addr_state.UT                      : num  0 0 0 0 0 0 0 0 0 0 ...\n",
      " $ addr_state.VA                      : num  0 0 0 0 0 0 0 0 0 0 ...\n",
      " $ addr_state.VT                      : num  0 0 0 0 0 0 0 0 0 0 ...\n",
      " $ addr_state.WA                      : num  0 0 0 0 0 0 0 0 0 0 ...\n",
      " $ addr_state.WI                      : num  0 0 0 0 0 0 0 0 0 0 ...\n",
      " $ addr_state.WV                      : num  0 0 0 0 0 0 0 0 0 0 ...\n",
      " $ addr_state.WY                      : num  0 0 0 0 0 0 0 0 0 0 ...\n"
     ]
    }
   ],
   "source": [
    "factor_dummy_cols <- acm.disjonctif(loans[factor_cols])\n",
    "str(factor_dummy_cols)"
   ]
  },
  {
   "cell_type": "code",
   "execution_count": 50,
   "metadata": {},
   "outputs": [
    {
     "data": {
      "text/html": [
       "<table>\n",
       "<thead><tr><th scope=col>loan_amnt</th><th scope=col>int_rate</th><th scope=col>installment</th><th scope=col>annual_inc</th><th scope=col>dti</th><th scope=col>delinq_2yrs</th><th scope=col>inq_last_6mths</th><th scope=col>open_acc</th><th scope=col>pub_rec</th><th scope=col>revol_bal</th><th scope=col>...</th><th scope=col>addr_state.SD</th><th scope=col>addr_state.TN</th><th scope=col>addr_state.TX</th><th scope=col>addr_state.UT</th><th scope=col>addr_state.VA</th><th scope=col>addr_state.VT</th><th scope=col>addr_state.WA</th><th scope=col>addr_state.WI</th><th scope=col>addr_state.WV</th><th scope=col>addr_state.WY</th></tr></thead>\n",
       "<tbody>\n",
       "\t<tr><td>0.13043478 </td><td>0.2728221  </td><td>0.11413726 </td><td>0.003335557</td><td>0.92197399 </td><td>0          </td><td>0.125      </td><td>0.02380952 </td><td>0          </td><td>0.09123727 </td><td>...        </td><td>0          </td><td>0          </td><td>0          </td><td>0          </td><td>0          </td><td>0          </td><td>0          </td><td>0          </td><td>0          </td><td>0          </td></tr>\n",
       "\t<tr><td>0.05797101 </td><td>0.5138237  </td><td>0.03423032 </td><td>0.004336224</td><td>0.03334445 </td><td>0          </td><td>0.625      </td><td>0.02380952 </td><td>0          </td><td>0.01127764 </td><td>...        </td><td>0          </td><td>0          </td><td>0          </td><td>0          </td><td>0          </td><td>0          </td><td>0          </td><td>0          </td><td>0          </td><td>0          </td></tr>\n",
       "\t<tr><td>0.05507246 </td><td>0.5498174  </td><td>0.05322993 </td><td>0.001376251</td><td>0.29076359 </td><td>0          </td><td>0.250      </td><td>0.00000000 </td><td>0          </td><td>0.01976094 </td><td>...        </td><td>0          </td><td>0          </td><td>0          </td><td>0          </td><td>0          </td><td>0          </td><td>0          </td><td>0          </td><td>0          </td><td>0          </td></tr>\n",
       "\t<tr><td>0.27536232 </td><td>0.4209703  </td><td>0.25096549 </td><td>0.007538359</td><td>0.66688896 </td><td>0          </td><td>0.125      </td><td>0.19047619 </td><td>0          </td><td>0.03742279 </td><td>...        </td><td>0          </td><td>0          </td><td>0          </td><td>0          </td><td>0          </td><td>0          </td><td>0          </td><td>0          </td><td>0          </td><td>0          </td></tr>\n",
       "\t<tr><td>0.07246377 </td><td>0.3792384  </td><td>0.04040326 </td><td>0.012675117</td><td>0.59819940 </td><td>0          </td><td>0.000      </td><td>0.30952381 </td><td>0          </td><td>0.18573014 </td><td>...        </td><td>0          </td><td>0          </td><td>0          </td><td>0          </td><td>0          </td><td>0          </td><td>0          </td><td>0          </td><td>0          </td><td>0          </td></tr>\n",
       "\t<tr><td>0.13043478 </td><td>0.1293688  </td><td>0.10916634 </td><td>0.005336891</td><td>0.37345782 </td><td>0          </td><td>0.375      </td><td>0.16666667 </td><td>0          </td><td>0.05323288 </td><td>...        </td><td>0          </td><td>0          </td><td>0          </td><td>0          </td><td>0          </td><td>0          </td><td>0          </td><td>0          </td><td>0          </td><td>0          </td></tr>\n",
       "</tbody>\n",
       "</table>\n"
      ],
      "text/latex": [
       "\\begin{tabular}{r|lllllllllllllllllllllllllllllllllllllllllllllllllllllllllllllllllllllllllllllllllllllllllllllllllll}\n",
       " loan\\_amnt & int\\_rate & installment & annual\\_inc & dti & delinq\\_2yrs & inq\\_last\\_6mths & open\\_acc & pub\\_rec & revol\\_bal & ... & addr\\_state.SD & addr\\_state.TN & addr\\_state.TX & addr\\_state.UT & addr\\_state.VA & addr\\_state.VT & addr\\_state.WA & addr\\_state.WI & addr\\_state.WV & addr\\_state.WY\\\\\n",
       "\\hline\n",
       "\t 0.13043478  & 0.2728221   & 0.11413726  & 0.003335557 & 0.92197399  & 0           & 0.125       & 0.02380952  & 0           & 0.09123727  & ...         & 0           & 0           & 0           & 0           & 0           & 0           & 0           & 0           & 0           & 0          \\\\\n",
       "\t 0.05797101  & 0.5138237   & 0.03423032  & 0.004336224 & 0.03334445  & 0           & 0.625       & 0.02380952  & 0           & 0.01127764  & ...         & 0           & 0           & 0           & 0           & 0           & 0           & 0           & 0           & 0           & 0          \\\\\n",
       "\t 0.05507246  & 0.5498174   & 0.05322993  & 0.001376251 & 0.29076359  & 0           & 0.250       & 0.00000000  & 0           & 0.01976094  & ...         & 0           & 0           & 0           & 0           & 0           & 0           & 0           & 0           & 0           & 0          \\\\\n",
       "\t 0.27536232  & 0.4209703   & 0.25096549  & 0.007538359 & 0.66688896  & 0           & 0.125       & 0.19047619  & 0           & 0.03742279  & ...         & 0           & 0           & 0           & 0           & 0           & 0           & 0           & 0           & 0           & 0          \\\\\n",
       "\t 0.07246377  & 0.3792384   & 0.04040326  & 0.012675117 & 0.59819940  & 0           & 0.000       & 0.30952381  & 0           & 0.18573014  & ...         & 0           & 0           & 0           & 0           & 0           & 0           & 0           & 0           & 0           & 0          \\\\\n",
       "\t 0.13043478  & 0.1293688   & 0.10916634  & 0.005336891 & 0.37345782  & 0           & 0.375       & 0.16666667  & 0           & 0.05323288  & ...         & 0           & 0           & 0           & 0           & 0           & 0           & 0           & 0           & 0           & 0          \\\\\n",
       "\\end{tabular}\n"
      ],
      "text/markdown": [
       "\n",
       "loan_amnt | int_rate | installment | annual_inc | dti | delinq_2yrs | inq_last_6mths | open_acc | pub_rec | revol_bal | ... | addr_state.SD | addr_state.TN | addr_state.TX | addr_state.UT | addr_state.VA | addr_state.VT | addr_state.WA | addr_state.WI | addr_state.WV | addr_state.WY | \n",
       "|---|---|---|---|---|---|\n",
       "| 0.13043478  | 0.2728221   | 0.11413726  | 0.003335557 | 0.92197399  | 0           | 0.125       | 0.02380952  | 0           | 0.09123727  | ...         | 0           | 0           | 0           | 0           | 0           | 0           | 0           | 0           | 0           | 0           | \n",
       "| 0.05797101  | 0.5138237   | 0.03423032  | 0.004336224 | 0.03334445  | 0           | 0.625       | 0.02380952  | 0           | 0.01127764  | ...         | 0           | 0           | 0           | 0           | 0           | 0           | 0           | 0           | 0           | 0           | \n",
       "| 0.05507246  | 0.5498174   | 0.05322993  | 0.001376251 | 0.29076359  | 0           | 0.250       | 0.00000000  | 0           | 0.01976094  | ...         | 0           | 0           | 0           | 0           | 0           | 0           | 0           | 0           | 0           | 0           | \n",
       "| 0.27536232  | 0.4209703   | 0.25096549  | 0.007538359 | 0.66688896  | 0           | 0.125       | 0.19047619  | 0           | 0.03742279  | ...         | 0           | 0           | 0           | 0           | 0           | 0           | 0           | 0           | 0           | 0           | \n",
       "| 0.07246377  | 0.3792384   | 0.04040326  | 0.012675117 | 0.59819940  | 0           | 0.000       | 0.30952381  | 0           | 0.18573014  | ...         | 0           | 0           | 0           | 0           | 0           | 0           | 0           | 0           | 0           | 0           | \n",
       "| 0.13043478  | 0.1293688   | 0.10916634  | 0.005336891 | 0.37345782  | 0           | 0.375       | 0.16666667  | 0           | 0.05323288  | ...         | 0           | 0           | 0           | 0           | 0           | 0           | 0           | 0           | 0           | 0           | \n",
       "\n",
       "\n"
      ],
      "text/plain": [
       "  loan_amnt  int_rate  installment annual_inc  dti        delinq_2yrs\n",
       "1 0.13043478 0.2728221 0.11413726  0.003335557 0.92197399 0          \n",
       "2 0.05797101 0.5138237 0.03423032  0.004336224 0.03334445 0          \n",
       "3 0.05507246 0.5498174 0.05322993  0.001376251 0.29076359 0          \n",
       "4 0.27536232 0.4209703 0.25096549  0.007538359 0.66688896 0          \n",
       "5 0.07246377 0.3792384 0.04040326  0.012675117 0.59819940 0          \n",
       "6 0.13043478 0.1293688 0.10916634  0.005336891 0.37345782 0          \n",
       "  inq_last_6mths open_acc   pub_rec revol_bal  ... addr_state.SD addr_state.TN\n",
       "1 0.125          0.02380952 0       0.09123727 ... 0             0            \n",
       "2 0.625          0.02380952 0       0.01127764 ... 0             0            \n",
       "3 0.250          0.00000000 0       0.01976094 ... 0             0            \n",
       "4 0.125          0.19047619 0       0.03742279 ... 0             0            \n",
       "5 0.000          0.30952381 0       0.18573014 ... 0             0            \n",
       "6 0.375          0.16666667 0       0.05323288 ... 0             0            \n",
       "  addr_state.TX addr_state.UT addr_state.VA addr_state.VT addr_state.WA\n",
       "1 0             0             0             0             0            \n",
       "2 0             0             0             0             0            \n",
       "3 0             0             0             0             0            \n",
       "4 0             0             0             0             0            \n",
       "5 0             0             0             0             0            \n",
       "6 0             0             0             0             0            \n",
       "  addr_state.WI addr_state.WV addr_state.WY\n",
       "1 0             0             0            \n",
       "2 0             0             0            \n",
       "3 0             0             0            \n",
       "4 0             0             0            \n",
       "5 0             0             0            \n",
       "6 0             0             0            "
      ]
     },
     "metadata": {},
     "output_type": "display_data"
    }
   ],
   "source": [
    "factor_dummy_cols <- subset(factor_dummy_cols, select=-c(loan_status.CO))\n",
    "transformed_loans <- loans[!factor_cols]\n",
    "transformed_loans <- cbind(transformed_loans, factor_dummy_cols)\n",
    "head(transformed_loans)"
   ]
  },
  {
   "cell_type": "code",
   "execution_count": 51,
   "metadata": {},
   "outputs": [
    {
     "name": "stdout",
     "output_type": "stream",
     "text": [
      "'data.frame':\t38661 obs. of  99 variables:\n",
      " $ loan_amnt                          : num  0.1304 0.058 0.0551 0.2754 0.0725 ...\n",
      " $ int_rate                           : num  0.273 0.514 0.55 0.421 0.379 ...\n",
      " $ installment                        : num  0.1141 0.0342 0.0532 0.251 0.0404 ...\n",
      " $ annual_inc                         : num  0.00334 0.00434 0.00138 0.00754 0.01268 ...\n",
      " $ dti                                : num  0.922 0.0333 0.2908 0.6669 0.5982 ...\n",
      " $ delinq_2yrs                        : num  0 0 0 0 0 0 0 0 0 0 ...\n",
      " $ inq_last_6mths                     : num  0.125 0.625 0.25 0.125 0 0.375 0.125 0.25 0.25 0 ...\n",
      " $ open_acc                           : num  0.0238 0.0238 0 0.1905 0.3095 ...\n",
      " $ pub_rec                            : num  0 0 0 0 0 0 0 0 0 0 ...\n",
      " $ revol_bal                          : num  0.0912 0.0113 0.0198 0.0374 0.1857 ...\n",
      " $ revol_util                         : num  0.8378 0.0941 0.986 0.2102 0.5395 ...\n",
      " $ total_acc                          : num  0.0795 0.0227 0.0909 0.3977 0.4091 ...\n",
      " $ term. 36 months                    : num  1 0 1 1 0 1 0 1 0 0 ...\n",
      " $ term. 60 months                    : num  0 1 0 0 1 0 1 0 1 1 ...\n",
      " $ emp_length.< 1 year                : num  0 1 0 0 0 0 0 0 0 1 ...\n",
      " $ emp_length.1 year                  : num  0 0 0 0 1 0 0 0 0 0 ...\n",
      " $ emp_length.10+ years               : num  1 0 1 1 0 0 0 0 0 0 ...\n",
      " $ emp_length.2 years                 : num  0 0 0 0 0 0 0 0 0 0 ...\n",
      " $ emp_length.3 years                 : num  0 0 0 0 0 1 0 0 0 0 ...\n",
      " $ emp_length.4 years                 : num  0 0 0 0 0 0 0 0 1 0 ...\n",
      " $ emp_length.5 years                 : num  0 0 0 0 0 0 0 0 0 0 ...\n",
      " $ emp_length.6 years                 : num  0 0 0 0 0 0 0 0 0 0 ...\n",
      " $ emp_length.7 years                 : num  0 0 0 0 0 0 0 0 0 0 ...\n",
      " $ emp_length.8 years                 : num  0 0 0 0 0 0 1 0 0 0 ...\n",
      " $ emp_length.9 years                 : num  0 0 0 0 0 0 0 1 0 0 ...\n",
      " $ emp_length.n/a                     : num  0 0 0 0 0 0 0 0 0 0 ...\n",
      " $ home_ownership.MORTGAGE            : num  0 0 0 0 0 0 0 0 0 0 ...\n",
      " $ home_ownership.NONE                : num  0 0 0 0 0 0 0 0 0 0 ...\n",
      " $ home_ownership.OTHER               : num  0 0 0 0 0 0 0 0 0 0 ...\n",
      " $ home_ownership.OWN                 : num  0 0 0 0 0 0 0 0 1 0 ...\n",
      " $ home_ownership.RENT                : num  1 1 1 1 1 1 1 1 0 1 ...\n",
      " $ verification_status.Not Verified   : num  0 0 1 0 0 0 1 0 0 0 ...\n",
      " $ verification_status.Source Verified: num  0 1 0 1 1 1 0 1 1 0 ...\n",
      " $ verification_status.Verified       : num  1 0 0 0 0 0 0 0 0 1 ...\n",
      " $ loan_status.FP                     : num  1 0 1 1 1 1 1 1 0 0 ...\n",
      " $ purpose.car                        : num  0 1 0 0 0 0 0 1 0 0 ...\n",
      " $ purpose.credit_card                : num  1 0 0 0 0 0 0 0 0 0 ...\n",
      " $ purpose.debt_consolidation         : num  0 0 0 0 0 0 1 0 0 0 ...\n",
      " $ purpose.educational                : num  0 0 0 0 0 0 0 0 0 0 ...\n",
      " $ purpose.home_improvement           : num  0 0 0 0 0 0 0 0 0 0 ...\n",
      " $ purpose.house                      : num  0 0 0 0 0 0 0 0 0 0 ...\n",
      " $ purpose.major_purchase             : num  0 0 0 0 0 0 0 0 0 0 ...\n",
      " $ purpose.medical                    : num  0 0 0 0 0 0 0 0 0 0 ...\n",
      " $ purpose.moving                     : num  0 0 0 0 0 0 0 0 0 0 ...\n",
      " $ purpose.other                      : num  0 0 0 1 1 0 0 0 0 1 ...\n",
      " $ purpose.renewable_energy           : num  0 0 0 0 0 0 0 0 0 0 ...\n",
      " $ purpose.small_business             : num  0 0 1 0 0 0 0 0 1 0 ...\n",
      " $ purpose.vacation                   : num  0 0 0 0 0 0 0 0 0 0 ...\n",
      " $ purpose.wedding                    : num  0 0 0 0 0 1 0 0 0 0 ...\n",
      " $ addr_state.AK                      : num  0 0 0 0 0 0 0 0 0 0 ...\n",
      " $ addr_state.AL                      : num  0 0 0 0 0 0 0 0 0 0 ...\n",
      " $ addr_state.AR                      : num  0 0 0 0 0 0 0 0 0 0 ...\n",
      " $ addr_state.AZ                      : num  1 0 0 0 0 1 0 0 0 0 ...\n",
      " $ addr_state.CA                      : num  0 0 0 1 0 0 0 1 1 0 ...\n",
      " $ addr_state.CO                      : num  0 0 0 0 0 0 0 0 0 0 ...\n",
      " $ addr_state.CT                      : num  0 0 0 0 0 0 0 0 0 0 ...\n",
      " $ addr_state.DC                      : num  0 0 0 0 0 0 0 0 0 0 ...\n",
      " $ addr_state.DE                      : num  0 0 0 0 0 0 0 0 0 0 ...\n",
      " $ addr_state.FL                      : num  0 0 0 0 0 0 0 0 0 0 ...\n",
      " $ addr_state.GA                      : num  0 1 0 0 0 0 0 0 0 0 ...\n",
      " $ addr_state.HI                      : num  0 0 0 0 0 0 0 0 0 0 ...\n",
      " $ addr_state.IA                      : num  0 0 0 0 0 0 0 0 0 0 ...\n",
      " $ addr_state.ID                      : num  0 0 0 0 0 0 0 0 0 0 ...\n",
      " $ addr_state.IL                      : num  0 0 1 0 0 0 0 0 0 0 ...\n",
      " $ addr_state.IN                      : num  0 0 0 0 0 0 0 0 0 0 ...\n",
      " $ addr_state.KS                      : num  0 0 0 0 0 0 0 0 0 0 ...\n",
      " $ addr_state.KY                      : num  0 0 0 0 0 0 0 0 0 0 ...\n",
      " $ addr_state.LA                      : num  0 0 0 0 0 0 0 0 0 0 ...\n",
      " $ addr_state.MA                      : num  0 0 0 0 0 0 0 0 0 0 ...\n",
      " $ addr_state.MD                      : num  0 0 0 0 0 0 0 0 0 0 ...\n",
      " $ addr_state.ME                      : num  0 0 0 0 0 0 0 0 0 0 ...\n",
      " $ addr_state.MI                      : num  0 0 0 0 0 0 0 0 0 0 ...\n",
      " $ addr_state.MN                      : num  0 0 0 0 0 0 0 0 0 0 ...\n",
      " $ addr_state.MO                      : num  0 0 0 0 0 0 0 0 0 0 ...\n",
      " $ addr_state.MS                      : num  0 0 0 0 0 0 0 0 0 0 ...\n",
      " $ addr_state.MT                      : num  0 0 0 0 0 0 0 0 0 0 ...\n",
      " $ addr_state.NC                      : num  0 0 0 0 0 0 1 0 0 0 ...\n",
      " $ addr_state.NE                      : num  0 0 0 0 0 0 0 0 0 0 ...\n",
      " $ addr_state.NH                      : num  0 0 0 0 0 0 0 0 0 0 ...\n",
      " $ addr_state.NJ                      : num  0 0 0 0 0 0 0 0 0 0 ...\n",
      " $ addr_state.NM                      : num  0 0 0 0 0 0 0 0 0 0 ...\n",
      " $ addr_state.NV                      : num  0 0 0 0 0 0 0 0 0 0 ...\n",
      " $ addr_state.NY                      : num  0 0 0 0 0 0 0 0 0 0 ...\n",
      " $ addr_state.OH                      : num  0 0 0 0 0 0 0 0 0 0 ...\n",
      " $ addr_state.OK                      : num  0 0 0 0 0 0 0 0 0 0 ...\n",
      " $ addr_state.OR                      : num  0 0 0 0 1 0 0 0 0 0 ...\n",
      " $ addr_state.PA                      : num  0 0 0 0 0 0 0 0 0 0 ...\n",
      " $ addr_state.RI                      : num  0 0 0 0 0 0 0 0 0 0 ...\n",
      " $ addr_state.SC                      : num  0 0 0 0 0 0 0 0 0 0 ...\n",
      " $ addr_state.SD                      : num  0 0 0 0 0 0 0 0 0 0 ...\n",
      " $ addr_state.TN                      : num  0 0 0 0 0 0 0 0 0 0 ...\n",
      " $ addr_state.TX                      : num  0 0 0 0 0 0 0 0 0 1 ...\n",
      " $ addr_state.UT                      : num  0 0 0 0 0 0 0 0 0 0 ...\n",
      " $ addr_state.VA                      : num  0 0 0 0 0 0 0 0 0 0 ...\n",
      " $ addr_state.VT                      : num  0 0 0 0 0 0 0 0 0 0 ...\n",
      " $ addr_state.WA                      : num  0 0 0 0 0 0 0 0 0 0 ...\n",
      " $ addr_state.WI                      : num  0 0 0 0 0 0 0 0 0 0 ...\n",
      " $ addr_state.WV                      : num  0 0 0 0 0 0 0 0 0 0 ...\n",
      " $ addr_state.WY                      : num  0 0 0 0 0 0 0 0 0 0 ...\n"
     ]
    }
   ],
   "source": [
    "str(transformed_loans)"
   ]
  },
  {
   "cell_type": "code",
   "execution_count": 52,
   "metadata": {},
   "outputs": [
    {
     "data": {
      "text/plain": [
       "Confusion Matrix and Statistics\n",
       "\n",
       "          Reference\n",
       "Prediction    0    1\n",
       "         0  729    0\n",
       "         1  908 9770\n",
       "                                          \n",
       "               Accuracy : 0.9204          \n",
       "                 95% CI : (0.9153, 0.9253)\n",
       "    No Information Rate : 0.8565          \n",
       "    P-Value [Acc > NIR] : < 2.2e-16       \n",
       "                                          \n",
       "                  Kappa : 0.579           \n",
       " Mcnemar's Test P-Value : < 2.2e-16       \n",
       "                                          \n",
       "            Sensitivity : 1.0000          \n",
       "            Specificity : 0.4453          \n",
       "         Pos Pred Value : 0.9150          \n",
       "         Neg Pred Value : 1.0000          \n",
       "             Prevalence : 0.8565          \n",
       "         Detection Rate : 0.8565          \n",
       "   Detection Prevalence : 0.9361          \n",
       "      Balanced Accuracy : 0.7227          \n",
       "                                          \n",
       "       'Positive' Class : 1               \n",
       "                                          "
      ]
     },
     "metadata": {},
     "output_type": "display_data"
    }
   ],
   "source": [
    "library(class)\n",
    "set.seed(123)\n",
    "ind <- sample(2, nrow(transformed_loans), replace=TRUE, prob=c(0.7,0.3))\n",
    "train <- transformed_loans[ind==1,]\n",
    "test <- transformed_loans[ind==2,]\n",
    "predicted_labels <- knn(train, test, train$loan_status.FP, k=74)\n",
    "confusionMatrix(predicted_labels, test$loan_status, positive='1')"
   ]
  },
  {
   "cell_type": "markdown",
   "metadata": {},
   "source": [
    "#### Insight:\n",
    "The accuracy rate (92.04%) is higher than no information rate. The specificity is 44.53%, which is lower than our decision tree model. "
   ]
  },
  {
   "cell_type": "markdown",
   "metadata": {},
   "source": [
    "###  Verdict:\n",
    "\n",
    "Comparing the three models: "
   ]
  },
  {
   "cell_type": "code",
   "execution_count": 53,
   "metadata": {},
   "outputs": [
    {
     "data": {
      "text/html": [
       "<table>\n",
       "<thead><tr><th scope=col>Model_Name</th><th scope=col>Accuracy_Rate</th><th scope=col>Specificity_Rate</th></tr></thead>\n",
       "<tbody>\n",
       "\t<tr><td>Logistic Regression (imbalanced)</td><td>0.8563                          </td><td>0.0023                          </td></tr>\n",
       "\t<tr><td>Logistic Regression (balanced)  </td><td>0.6190                          </td><td>0.6248                          </td></tr>\n",
       "\t<tr><td>Decision Tree                   </td><td>0.5862                          </td><td>0.8781                          </td></tr>\n",
       "\t<tr><td>kNN                             </td><td>0.9204                          </td><td>0.4453                          </td></tr>\n",
       "</tbody>\n",
       "</table>\n"
      ],
      "text/latex": [
       "\\begin{tabular}{r|lll}\n",
       " Model\\_Name & Accuracy\\_Rate & Specificity\\_Rate\\\\\n",
       "\\hline\n",
       "\t Logistic Regression (imbalanced) & 0.8563                           & 0.0023                          \\\\\n",
       "\t Logistic Regression (balanced)   & 0.6190                           & 0.6248                          \\\\\n",
       "\t Decision Tree                    & 0.5862                           & 0.8781                          \\\\\n",
       "\t kNN                              & 0.9204                           & 0.4453                          \\\\\n",
       "\\end{tabular}\n"
      ],
      "text/markdown": [
       "\n",
       "Model_Name | Accuracy_Rate | Specificity_Rate | \n",
       "|---|---|---|---|\n",
       "| Logistic Regression (imbalanced) | 0.8563                           | 0.0023                           | \n",
       "| Logistic Regression (balanced)   | 0.6190                           | 0.6248                           | \n",
       "| Decision Tree                    | 0.5862                           | 0.8781                           | \n",
       "| kNN                              | 0.9204                           | 0.4453                           | \n",
       "\n",
       "\n"
      ],
      "text/plain": [
       "  Model_Name                       Accuracy_Rate Specificity_Rate\n",
       "1 Logistic Regression (imbalanced) 0.8563        0.0023          \n",
       "2 Logistic Regression (balanced)   0.6190        0.6248          \n",
       "3 Decision Tree                    0.5862        0.8781          \n",
       "4 kNN                              0.9204        0.4453          "
      ]
     },
     "metadata": {},
     "output_type": "display_data"
    }
   ],
   "source": [
    "accuracy_rate = c(0.8563, 0.619, 0.5862,0.9204)\n",
    "specificity_rate = c(0.0023, 0.6248, 0.8781,0.4453)\n",
    "model_name =c('Logistic Regression (imbalanced)', 'Logistic Regression (balanced)', 'Decision Tree', 'kNN')\n",
    "data.frame(Model_Name=model_name, Accuracy_Rate = accuracy_rate, Specificity_Rate = specificity_rate)"
   ]
  },
  {
   "cell_type": "markdown",
   "metadata": {},
   "source": [
    "#### Assessing the tradeoffs, decision tree model seems to be the best for the problem at hand. "
   ]
  }
 ],
 "metadata": {
  "kernelspec": {
   "display_name": "R",
   "language": "R",
   "name": "ir"
  },
  "language_info": {
   "codemirror_mode": "r",
   "file_extension": ".r",
   "mimetype": "text/x-r-source",
   "name": "R",
   "pygments_lexer": "r",
   "version": "3.4.2"
  }
 },
 "nbformat": 4,
 "nbformat_minor": 2
}
